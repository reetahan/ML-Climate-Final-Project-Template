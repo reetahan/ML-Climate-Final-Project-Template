{
 "cells": [
  {
   "cell_type": "code",
   "execution_count": null,
   "id": "344136f2",
   "metadata": {},
   "outputs": [],
   "source": [
    "import numpy as np\n",
    "import matplotlib.pyplot as plt\n",
    "import xarray as xr\n",
    "import xesmf as xe\n",
    "import pandas as pd\n",
    "from flaml import AutoML\n",
    "from sklearn.model_selection import train_test_split\n",
    "from sklearn.metrics import r2_score, mean_squared_error, mean_absolute_percentage_error, mean_absolute_error\n",
    "from keras.models import Sequential\n",
    "from keras.layers import Dense, Dropout, Flatten, Conv2D, MaxPooling2D, ZeroPadding2D\n",
    "import os\n",
    "import tensorflow as tf\n",
    "from tensorflow.keras import datasets, layers, models, losses\n",
    "from keras.callbacks import ModelCheckpoint, TensorBoard\n",
    "from keras import backend\n",
    "from sklearn.preprocessing import StandardScaler"
   ]
  },
  {
   "cell_type": "code",
   "execution_count": null,
   "id": "a763d86c",
   "metadata": {},
   "outputs": [],
   "source": [
    "def open_monthly_data():\n",
    "    mace = open(\"monthly_activity_ace.csv\",\"r\")\n",
    "    mns = open(\"monthly_activity_num_storms.csv\",\"r\")\n",
    "    \n",
    "    mace_contents = mace.readlines()\n",
    "    mns_contents = mns.readlines()\n",
    "    \n",
    "    mace.close()\n",
    "    mns.close()\n",
    "    \n",
    "    mace_dct = []\n",
    "    mns_dct = []\n",
    "    \n",
    "    for i in range(9,len(mace_contents)):\n",
    "        #key_mace = int(mace_contents[i].split()[0])\n",
    "        #key_mns = int(mns_contents[i].split()[0])\n",
    "        #monthly_mace = []\n",
    "        #monthly_mns = []\n",
    "        for j in range(1,13):\n",
    "            mace_dct.append(float(mace_contents[i].split()[j]))\n",
    "            mns_dct.append(float(mns_contents[i].split()[j]))\n",
    "        #mace_dct[key_mace] = monthly_mace\n",
    "        #mns_dct[key_mns] = monthly_mns\n",
    "    \n",
    "    return np.array(mace_dct), np.array(mns_dct)"
   ]
  },
  {
   "cell_type": "code",
   "execution_count": null,
   "id": "b565ff99",
   "metadata": {},
   "outputs": [],
   "source": [
    "def open_data():\n",
    "    #Open the datasets\n",
    "    factual = xr.open_mfdataset(\"factual/*.nc\")\n",
    "    cfl = xr.open_mfdataset(\"eth_cfl/*.nc\", join='inner', compat='override')\n",
    "    \n",
    "    factual = factual.reduce(np.nansum, dim='expver',keep_attrs=True)\n",
    "    cfl[\"lon\"] = np.arange(-180,180,2.5)\n",
    "    factual = factual.rename({\"latitude\":\"lat\",\"longitude\":\"lon\"})\n",
    "    cfl = cfl.sel(lat=slice(-60,60),lon=slice(-80,20))\n",
    "    \n",
    "    \n",
    "    #Regrid the factual dataset to be the counterfactual's granularity\n",
    "    ds_out = xr.Dataset(\n",
    "        {\n",
    "            \"lat\": np.array(cfl[\"lat\"]),\n",
    "            \"lon\": np.array(cfl[\"lon\"]),\n",
    "        }\n",
    "    )\n",
    "    regridder = xe.Regridder(factual, ds_out, \"bilinear\")\n",
    "    factual = regridder(factual)\n",
    "    \n",
    "    factual = factual.isel(time=slice(0,732)) \n",
    "    \n",
    "    pred_df = pd.read_csv(\"yearly_activity.csv\")\n",
    "    pred_df = pred_df.loc[pred_df['Year'] >= 1959]\n",
    "    ace_raw = pred_df['Accumulated Cyclone Energy']\n",
    "    ace = np.array(ace_raw)\n",
    "    \n",
    "    return factual,cfl,ace"
   ]
  },
  {
   "cell_type": "code",
   "execution_count": null,
   "id": "d6d32892",
   "metadata": {},
   "outputs": [],
   "source": [
    "factual,cfl,ace = open_data()\n",
    "factual = factual.to_array().transpose(\"time\",\"lat\",\"lon\",\"variable\")\n",
    "factual = factual.to_numpy()\n"
   ]
  },
  {
   "cell_type": "code",
   "execution_count": null,
   "id": "c5985887",
   "metadata": {},
   "outputs": [],
   "source": [
    "m_factual_ace,m_factual_ns = open_monthly_data()\n",
    "np.shape(factual)"
   ]
  },
  {
   "cell_type": "code",
   "execution_count": null,
   "id": "21a4bc80",
   "metadata": {},
   "outputs": [],
   "source": [
    "X_train, X_test, y_train, y_test = train_test_split(factual,m_factual_ace,test_size=0.4,shuffle=True, random_state=66)"
   ]
  },
  {
   "cell_type": "code",
   "execution_count": null,
   "id": "00a8089d",
   "metadata": {},
   "outputs": [],
   "source": [
    "indices = [i for i, x in enumerate(y_train) if x == 0]\n",
    "np.shape(y_test)"
   ]
  },
  {
   "cell_type": "code",
   "execution_count": null,
   "id": "5976fc12",
   "metadata": {},
   "outputs": [],
   "source": [
    "for index in sorted(indices, reverse=True):\n",
    "    y_train = np.delete(y_train,index)\n",
    "    X_train = np.delete(X_train,index)"
   ]
  },
  {
   "cell_type": "code",
   "execution_count": null,
   "id": "146272df",
   "metadata": {},
   "outputs": [],
   "source": []
  },
  {
   "cell_type": "code",
   "execution_count": null,
   "id": "3b7885e9",
   "metadata": {},
   "outputs": [],
   "source": [
    "model = models.Sequential()\n",
    "model.add(Conv2D(32, kernel_size=7, strides=2, activation='relu', padding='same',input_shape=(64,41,5)))\n",
    "model.add(Conv2D(32, kernel_size=7, strides=1, activation='relu', padding='same'))\n",
    "model.add(MaxPooling2D((2, 2), strides=(2, 2)))\n",
    "\n",
    "#model.add(Dropout(0.5))\n",
    "\n",
    "model.add(Conv2D(64, kernel_size=7, strides=1, activation='relu', padding='same'))\n",
    "model.add(Conv2D(64, kernel_size=7, strides=1, activation='relu', padding='same'))\n",
    "model.add(MaxPooling2D((2, 2), strides=(2, 2)))\n",
    "\n",
    "model.add(Flatten())\n",
    "\n",
    "#model.add(Dropout(0.5))\n",
    "\n",
    "model.add(Dense(128, activation='relu', name=\"FC_1\"))\n",
    "model.add(Dense(64, activation='relu', name=\"FC_2\"))\n",
    "model.add(Dense(5, activation='softmax'))\n",
    "model.add(Dense(1, activation='linear'))\n",
    "model.summary()\n",
    "\n",
    "'''\n",
    "model = models.Sequential()\n",
    "model.add(Dense(32, activation='relu', input_shape=(64,41,5,)))\n",
    "model.add(Dense(16, activation='relu'))\n",
    "model.add(Dense(10, activation='softmax'))\n",
    "model.add(Dense(1, activation='linear'))\n",
    "model.summary()\n",
    "'''"
   ]
  },
  {
   "cell_type": "code",
   "execution_count": null,
   "id": "c6249e18",
   "metadata": {},
   "outputs": [],
   "source": [
    "def root_mean_squared_error(y_true, y_pred):\n",
    "        return backend.sqrt(backend.mean(backd.square(y_pred - y_true)))"
   ]
  },
  {
   "cell_type": "code",
   "execution_count": null,
   "id": "84a640f2",
   "metadata": {},
   "outputs": [],
   "source": [
    "model.compile(\n",
    "    optimizer='sgd', \n",
    "    loss=tf.keras.losses.MeanSquaredError(),\n",
    "    metrics=[tf.keras.metrics.RootMeanSquaredError(), tf.keras.metrics.MeanAbsoluteError()])"
   ]
  },
  {
   "cell_type": "code",
   "execution_count": null,
   "id": "222e0684",
   "metadata": {},
   "outputs": [],
   "source": [
    "history_notreg = model.fit(X_train, y_train, epochs=200,batch_size=32, \n",
    "                    validation_data=(X_test, y_test))"
   ]
  },
  {
   "cell_type": "code",
   "execution_count": null,
   "id": "e338a180",
   "metadata": {},
   "outputs": [],
   "source": [
    "history.history"
   ]
  },
  {
   "cell_type": "code",
   "execution_count": null,
   "id": "0737d556",
   "metadata": {},
   "outputs": [],
   "source": [
    "results = model.evaluate(X_test, y_test, batch_size=8)"
   ]
  },
  {
   "cell_type": "code",
   "execution_count": null,
   "id": "16824639",
   "metadata": {},
   "outputs": [],
   "source": [
    "results"
   ]
  },
  {
   "cell_type": "code",
   "execution_count": null,
   "id": "b900bc67",
   "metadata": {},
   "outputs": [],
   "source": [
    "print('CNN Model 4 - RMSE: ' + str(results[1]))\n",
    "print('CNN Model 4 - MAE: ' + str(results[2]))"
   ]
  },
  {
   "cell_type": "code",
   "execution_count": null,
   "id": "45393ffa",
   "metadata": {},
   "outputs": [],
   "source": []
  },
  {
   "cell_type": "code",
   "execution_count": null,
   "id": "01c8ce0c",
   "metadata": {},
   "outputs": [],
   "source": []
  }
 ],
 "metadata": {
  "kernelspec": {
   "display_name": "Python 3",
   "language": "python",
   "name": "python3"
  },
  "language_info": {
   "codemirror_mode": {
    "name": "ipython",
    "version": 3
   },
   "file_extension": ".py",
   "mimetype": "text/x-python",
   "name": "python",
   "nbconvert_exporter": "python",
   "pygments_lexer": "ipython3",
   "version": "3.10.0"
  }
 },
 "nbformat": 4,
 "nbformat_minor": 5
}
