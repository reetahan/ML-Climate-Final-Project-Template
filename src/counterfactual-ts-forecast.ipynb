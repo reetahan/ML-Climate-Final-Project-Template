{
 "cells": [
  {
   "cell_type": "code",
   "execution_count": null,
   "id": "0bb25fd5",
   "metadata": {},
   "outputs": [],
   "source": [
    "import numpy as np\n",
    "import matplotlib.pyplot as plt\n",
    "import xarray as xr\n",
    "import xesmf as xe\n",
    "import pandas as pd\n",
    "from flaml import AutoML\n",
    "import cftime\n",
    "from sklearn.model_selection import train_test_split\n",
    "import pyaf.ForecastEngine as autof\n",
    "from sklearn.preprocessing import StandardScaler\n",
    "from sklearn.impute import SimpleImputer\n",
    "from scipy import stats\n",
    "from scipy.spatial.distance import jensenshannon\n",
    "from sklearn.impute import KNNImputer\n",
    "import pmdarima as pm\n",
    "from pmdarima.model_selection import train_test_split\n",
    "from sklearn.metrics import r2_score, mean_squared_error, mean_absolute_percentage_error, mean_absolute_error\n",
    "import statsmodels.api as sm\n",
    "from multiprocessing import Pool, cpu_count\n",
    "import time\n",
    "from timeit import default_timer as timer\n",
    "import tensorflow as tf\n",
    "from tensorflow.keras import Sequential\n",
    "from tensorflow.keras.layers import LSTM, Dense, Dropout, TimeDistributed, Conv1D, MaxPooling1D, Flatten, Bidirectional, Input, Flatten, Activation, Reshape, RepeatVector, Concatenate\n",
    "from tensorflow.keras.models import Model\n",
    "from tensorflow.keras.callbacks import Callback\n",
    "from tensorflow.keras.utils import plot_model\n",
    "from tensorflow.keras.callbacks import EarlyStopping, ReduceLROnPlateau, ModelCheckpoint"
   ]
  },
  {
   "cell_type": "code",
   "execution_count": null,
   "id": "11703d7c",
   "metadata": {},
   "outputs": [],
   "source": [
    "def open_data():\n",
    "    #Open the datasets\n",
    "    \n",
    "    cfl = xr.open_mfdataset(\"eth_cfl/*.nc\", join='inner', compat='override')\n",
    "    \n",
    "    cfl[\"lon\"] = np.arange(-180,180,2.5)\n",
    "    cfl = cfl.sel(lat=slice(-60,60),lon=slice(-80,20))\n",
    "\n",
    "    \n",
    "    return cfl"
   ]
  },
  {
   "cell_type": "code",
   "execution_count": null,
   "id": "f0bd7519",
   "metadata": {},
   "outputs": [],
   "source": [
    "cfl = open_data()\n",
    "cfl = cfl.drop(\"time_bnds\")\n",
    "cfl.lon"
   ]
  },
  {
   "cell_type": "code",
   "execution_count": null,
   "id": "f8b1828c",
   "metadata": {},
   "outputs": [],
   "source": [
    "cfl = cfl.assign(ua_50000=cfl[\"ua\"].sel(plev=50000))\n",
    "cfl = cfl.assign(va_50000=cfl[\"va\"].sel(plev=50000))\n",
    "cfl = cfl.drop(\"plev\")\n",
    "cfl = cfl.drop(\"ua\")\n",
    "cfl = cfl.drop(\"va\")\n",
    "#cfl = cfl.stack(location=['lat','lon'])\n",
    "#print(cfl.values())\n",
    "#cfl = cfl.to_array().transpose(\"time\",\"lat\",\"lon\",\"variable\")\n",
    "cfl"
   ]
  },
  {
   "cell_type": "code",
   "execution_count": null,
   "id": "9e087bd7",
   "metadata": {},
   "outputs": [],
   "source": [
    "np.count_nonzero(np.isnan(cfl['va_50000'])) \n",
    "    "
   ]
  },
  {
   "cell_type": "code",
   "execution_count": null,
   "id": "a79ceaaf",
   "metadata": {},
   "outputs": [],
   "source": [
    "#imp = SimpleImputer(missing_values=np.nan, strategy='mean')\n",
    "imp= KNNImputer(n_neighbors=2, weights=\"uniform\")\n",
    "ua_flat = cfl['ua_100000'].to_numpy().reshape((120,2624))\n",
    "print(np.shape(ua_flat))\n",
    "#imp.fit(ua_flat)\n",
    "#ua_impl = imp.transform(ua_flat)\n",
    "ua_impl = imp.fit_transform(ua_flat)\n",
    "print(np.shape(ua_impl))\n",
    "ua_impl = ua_impl.reshape((120,64,41))\n",
    "\n",
    "#imp = SimpleImputer(missing_values=np.nan, strategy='mean')\n",
    "imp = KNNImputer(n_neighbors=2, weights=\"uniform\")\n",
    "va_flat = cfl['va_100000'].to_numpy().reshape((120,2624))\n",
    "#imp.fit(va_flat)\n",
    "#va_impl = imp.transform(va_flat)\n",
    "va_impl = imp.fit_transform(va_flat)\n",
    "va_impl = va_impl.reshape((120,64,41))"
   ]
  },
  {
   "cell_type": "code",
   "execution_count": null,
   "id": "c72e1563",
   "metadata": {},
   "outputs": [],
   "source": [
    "target = np.zeros((2624,5))\n",
    "var_list = ['SST_cpl','ice_cov','psl', 'ua_60000', 'va_60000']"
   ]
  },
  {
   "cell_type": "code",
   "execution_count": null,
   "id": "0a262305",
   "metadata": {},
   "outputs": [],
   "source": [
    "X_train = np.arange('2006-01', '2016-01', dtype='datetime64[M]')\n",
    "#X_test =  np.arange('2015-01', '2015-12', dtype='datetime64[M]')\n",
    "X_pred =  np.arange('2020-01', '2021-01', dtype='datetime64[M]')"
   ]
  },
  {
   "cell_type": "code",
   "execution_count": null,
   "id": "fc43bec6",
   "metadata": {},
   "outputs": [],
   "source": [
    "imp = SimpleImputer(missing_values=np.nan, strategy='mean')\n",
    "imp.fit(cfl['SST_cpl'])\n",
    "sst_cpl_impl = imp.transform(cfl['SST_cpl'])\n",
    "sst_cpl_impl = sst_cpl_impl.reshape((120,64,41))\n",
    "\n",
    "imp = SimpleImputer(missing_values=np.nan, strategy='mean')\n",
    "imp.fit(cfl['ice_cov'])\n",
    "ice_cov_impl = imp.transform(cfl['ice_cov'])\n",
    "sst_cpl_impl = sst_cpl_impl.reshape((120,64,41))\n",
    "\n",
    "imp = SimpleImputer(missing_values=np.nan, strategy='mean')\n",
    "imp.fit(cfl['SST_cpl'])\n",
    "psl_impl = imp.transform(cfl['psl'])\n",
    "psl_impl = psl_impl.reshape((120,64,41))\n",
    "\n",
    "imp = SimpleImputer(missing_values=np.nan, strategy='mean')\n",
    "imp.fit(cfl['ua_100000'])\n",
    "ua_impl = imp.transform(cfl['ua_100000'])\n",
    "ua_impl = ua_impl.reshape((120,64,41))\n",
    "\n",
    "imp = SimpleImputer(missing_values=np.nan, strategy='mean')\n",
    "imp.fit(cfl['va_100000'])\n",
    "va_impl = imp.transform(cfl['va_100000'])\n",
    "va_impl = va_impl.reshape((120,64,41))"
   ]
  },
  {
   "cell_type": "code",
   "execution_count": null,
   "id": "62829fa0",
   "metadata": {},
   "outputs": [],
   "source": [
    "import threading\n",
    "import time\n",
    "\n",
    "exitFlag = 0\n",
    "\n",
    "class myThread (threading.Thread):\n",
    "   def __init__(self, threadID, name, counter):\n",
    "      threading.Thread.__init__(self)\n",
    "      self.threadID = threadID\n",
    "      self.name = name\n",
    "      self.counter = counter\n",
    "   def run(self):\n",
    "      print(\"Starting \" + self.name)\n",
    "      print_time(self.name, 5, self.counter)\n",
    "      print(\"Exiting \" + self.name)\n",
    "\n",
    "def print_time(threadName, counter, delay):\n",
    "   while(counter):\n",
    "      if exitFlag:\n",
    "         threadName.exit()\n",
    "      time.sleep(delay)\n",
    "      print(\"%s: %s\" % (threadName, time.ctime(time.time())))\n",
    "      counter -= 1\n",
    "\n",
    "# Create new threads\n",
    "thread1 = myThread(1, \"Thread-1\", 1)\n",
    "thread2 = myThread(2, \"Thread-2\", 2)\n",
    "\n",
    "# Start new Threads\n",
    "thread1.start()\n",
    "thread2.start()\n",
    "\n",
    "print(\"Exiting Main Thread\")"
   ]
  },
  {
   "cell_type": "code",
   "execution_count": null,
   "id": "cc99191c",
   "metadata": {},
   "outputs": [],
   "source": [
    "lats_per_thread = []\n",
    "for i in range(0,64,4):\n",
    "    lats_per_thread.append(np.array(cfl.lat)[i:i+4])\n",
    "lats_per_thread"
   ]
  },
  {
   "cell_type": "code",
   "execution_count": null,
   "id": "8f7c3006",
   "metadata": {},
   "outputs": [],
   "source": [
    "results = np.zeros((64,41,60))"
   ]
  },
  {
   "cell_type": "code",
   "execution_count": null,
   "id": "f8c49f66",
   "metadata": {},
   "outputs": [],
   "source": [
    "results = []\n",
    "for lat in np.array(cfl.lat):\n",
    "    print(lat)\n",
    "    print('===========')\n",
    "    cur_lon = []\n",
    "    for lon in np.array(cfl.lon):\n",
    "        print(lon)\n",
    "        print('----------')\n",
    "        cur_loc_vars = []\n",
    "        for var in var_list:\n",
    "            print(var)\n",
    "            y_train = np.array(cfl.sel(lat=lat,lon=lon)[var])\n",
    "            model = pm.auto_arima(y_train, seasonal=True, m=12)\n",
    "            res = model.predict(60)\n",
    "            cur_loc_vars.append(res)\n",
    "        cur_lon.append(cur_loc_vars)\n",
    "    results.append(cur_lon)"
   ]
  },
  {
   "cell_type": "code",
   "execution_count": null,
   "id": "088cf750",
   "metadata": {},
   "outputs": [],
   "source": [
    "eng = autof.cForecastEngine()\n",
    "\n",
    "df_train = pd.DataFrame({\"Date\": X_train,\n",
    "   \t                 \"Signal\": cfl['SST_cpl'].to_numpy().reshape(120,2624)  })\n",
    "#eng.train(iInputDS=cfl['SST_cpl'], iTime='Date', iSignal='Signal', iHorizon=7)"
   ]
  },
  {
   "cell_type": "code",
   "execution_count": null,
   "id": "47983b31",
   "metadata": {},
   "outputs": [],
   "source": [
    "target = []\n",
    "for i in range(2624):\n",
    "    cur_idx = []\n",
    "    for j in range(5):\n",
    "        y_train = np.array(cfl.sel(location=cfl.location[i],variable=var_list[j]))\n",
    "        automl = AutoML()\n",
    "        automl.fit(X_train=X_train,  # a single column of timestamp\n",
    "           y_train=y_train,  # value for each timestamp\n",
    "           period=13,  # time horizon to forecast, e.g., 12 months\n",
    "           task='ts_forecast', time_budget=1,  # time budget in seconds\n",
    "           log_file_name=\"ts_forecast.log\",\n",
    "           eval_method=\"holdout\",\n",
    "          )\n",
    "        cur_idx.append(automl.predict(X_test))\n",
    "    print(cur_idx)\n",
    "    break\n",
    "    target.append(cur_idx)\n",
    "        "
   ]
  },
  {
   "cell_type": "code",
   "execution_count": null,
   "id": "a1e5c668",
   "metadata": {},
   "outputs": [],
   "source": [
    "mod = sm.tsa.VARMAX(cfl['SST_cpl'].to_numpy().reshape(120,2624), order=(0,2), error_cov_type='diagonal')\n",
    "res = mod.fit(maxiter=100, disp=False)"
   ]
  },
  {
   "cell_type": "code",
   "execution_count": null,
   "id": "78e45751",
   "metadata": {},
   "outputs": [],
   "source": [
    "res = mod.fit(maxiter=1000, disp=False)"
   ]
  },
  {
   "cell_type": "code",
   "execution_count": null,
   "id": "969c7c19",
   "metadata": {},
   "outputs": [],
   "source": [
    "np.isnan(to_ret)"
   ]
  },
  {
   "cell_type": "code",
   "execution_count": null,
   "id": "1addea19",
   "metadata": {},
   "outputs": [],
   "source": [
    "p"
   ]
  },
  {
   "cell_type": "code",
   "execution_count": null,
   "id": "ddf3ded5",
   "metadata": {},
   "outputs": [],
   "source": [
    "sst_cpl = cfl['SST_cpl'].to_numpy().reshape(120,2624)\n",
    "ice_cov = cfl['ice_cov'].to_numpy().reshape(120,2624)\n",
    "psl = cfl['psl'].to_numpy().reshape(120,2624)\n",
    "ua_50k = cfl['ua_50000'].to_numpy().reshape(120,2624)\n",
    "va_50k = cfl['va_50000'].to_numpy().reshape(120,2624)"
   ]
  },
  {
   "cell_type": "code",
   "execution_count": null,
   "id": "b5e05e1a",
   "metadata": {},
   "outputs": [],
   "source": [
    "results_sst_cpl = np.zeros((64,41,60))\n",
    "results_ice_cov = np.zeros((64,41,60))\n",
    "results_psl = np.zeros((64,41,60))\n",
    "results_ua_60k = np.zeros((64,41,60))\n",
    "results_va_60k = np.zeros((64,41,60))"
   ]
  },
  {
   "cell_type": "code",
   "execution_count": null,
   "id": "e481ebb9",
   "metadata": {},
   "outputs": [],
   "source": [
    "lat_start = cfl.lat[0]\n",
    "lon_start = cfl.lon[0]\n",
    "lon_delta = cfl.lon[1] - cfl.lon[0]\n",
    "lat_delta = cfl.lat[1] - cfl.lat[0]\n",
    "lats_per_proc = []\n",
    "for i in range(0,64,int(64/cpu_count())):\n",
    "    lats_per_proc.append(np.array(cfl.lat)[i:i+int(64/cpu_count())])\n",
    "lats_per_proc"
   ]
  },
  {
   "cell_type": "code",
   "execution_count": null,
   "id": "7e09b36e",
   "metadata": {},
   "outputs": [],
   "source": [
    "def work_func(lats):\n",
    "    print(lats)\n",
    "    for lat in lats:\n",
    "        print(lat)\n",
    "        print('===========')\n",
    "        \n",
    "        for lon in np.array(cfl.lon):\n",
    "            print(lon)\n",
    "            print('----------')\n",
    "           \n",
    "            \n",
    "            y_train = np.array(cfl.sel(lat=lat,lon=lon)['SST_cpl'])\n",
    "            model = pm.auto_arima(y_train, seasonal=True, m=12)\n",
    "            res = model.predict(60)\n",
    "            \n",
    "            lat_idx = int((lat - lat_start)/lat_delta)\n",
    "            lon_idx = int((lon - lon_start)/lon_delta) \n",
    "            for i in range(60):\n",
    "                results_sst_cpl[lat_idx][lon_idx][i] = res[i]"
   ]
  },
  {
   "cell_type": "code",
   "execution_count": null,
   "id": "82243609",
   "metadata": {},
   "outputs": [],
   "source": [
    "print(f'starting computations on {cpu_count()} cores')\n",
    "start = timer()\n",
    "with Pool() as pool:\n",
    "    res = pool.map(work_func,lats_per_proc)\n",
    "    print(res)\n",
    "end = timer()\n",
    "print(f'elapsed time: {end - start}')"
   ]
  },
  {
   "cell_type": "code",
   "execution_count": null,
   "id": "687671d9",
   "metadata": {},
   "outputs": [],
   "source": [
    "cfl = xr.open_mfdataset(\"eth_cfl/*.nc\", join='inner', compat='override')\n",
    "cfl[\"lon\"] = np.arange(-180,180,2.5)\n",
    "cfl = cfl.sel(lat=slice(-60,60),lon=slice(-80,20))cfl = cfl.assign(ua_60000=cfl[\"ua\"].sel(plev=60000))\n",
    "cfl = cfl.assign(va_60000=cfl[\"va\"].sel(plev=60000))\n",
    "cfl = cfl.mean(\"plev\")\n",
    "cfl = cfl.drop(\"ua\")\n",
    "cfl = cfl.drop(\"va\")\n",
    "\n",
    "lats_per_thread = []\n",
    "for i in range(0,64,4):\n",
    "    lats_per_thread.append(np.array(cfl.lat)[i:i+4])\n",
    "lats_per_thread\n",
    "\n"
   ]
  },
  {
   "cell_type": "code",
   "execution_count": null,
   "id": "49b5afae",
   "metadata": {},
   "outputs": [],
   "source": [
    "sst_cpl"
   ]
  },
  {
   "cell_type": "code",
   "execution_count": null,
   "id": "fc464e42",
   "metadata": {},
   "outputs": [],
   "source": [
    "def split_sequence(sequence, look_back, forecast_horizon):\n",
    "    X, y = list(), list()\n",
    "    for i in range(len(sequence)): \n",
    "        lag_end = i + look_back\n",
    "        forecast_end = lag_end + forecast_horizon\n",
    "        if forecast_end > len(sequence):\n",
    "            break\n",
    "        seq_x, seq_y = sequence[i:lag_end], sequence[lag_end:forecast_end]\n",
    "        X.append(seq_x)\n",
    "        y.append(seq_y)\n",
    "    return np.array(X), np.array(y)"
   ]
  },
  {
   "cell_type": "code",
   "execution_count": null,
   "id": "2e37de44",
   "metadata": {},
   "outputs": [],
   "source": [
    "LOOK_BACK = 20\n",
    "FORECAST_RANGE = 12\n",
    "n_features = 2624\n",
    "train_set = sst_cpl[:70]\n",
    "test_set = sst_cpl[70:]\n",
    "print(train_set.shape)\n",
    "print(test_set.shape)\n",
    "X_train, y_train = split_sequence(train_set, LOOK_BACK, FORECAST_RANGE)\n",
    "X_test, y_test = split_sequence(test_set,LOOK_BACK,FORECAST_RANGE)\n",
    "print(X_train.shape)\n",
    "print(y_train.shape)\n",
    "print(X_test.shape)\n",
    "print(y_test.shape)"
   ]
  },
  {
   "cell_type": "code",
   "execution_count": null,
   "id": "6a723368",
   "metadata": {},
   "outputs": [],
   "source": [
    "class EarlyStoppingByLossVal(Callback):\n",
    "    def __init__(self, monitor='val_loss', value=0.00001, verbose=0):\n",
    "        super(Callback, self).__init__()\n",
    "        self.monitor = monitor\n",
    "        self.value = value\n",
    "        self.verbose = verbose\n",
    "\n",
    "    def on_epoch_end(self, epoch, logs={}):\n",
    "        current = logs.get(self.monitor)\n",
    "        if current is None:\n",
    "            warnings.warn(\"Early stopping requires %s available!\" % self.monitor, RuntimeWarning)\n",
    "\n",
    "        if current < self.value:\n",
    "            if self.verbose > 0:\n",
    "                print(\"Epoch %05d: early stopping THR\" % epoch)\n",
    "            self.model.stop_training = True"
   ]
  },
  {
   "cell_type": "code",
   "execution_count": null,
   "id": "fe36c6d8",
   "metadata": {},
   "outputs": [],
   "source": [
    "early_stopping_callback = EarlyStoppingByLossVal(monitor='val_loss', value=10, verbose=1)\n",
    "rlrop_callback = ReduceLROnPlateau(monitor='val_loss', factor=0.2, mode='min', patience=3, min_lr=0.001)\n",
    "epochs = 250\n",
    "batch_size = 16\n",
    "validation = 0.1"
   ]
  },
  {
   "cell_type": "code",
   "execution_count": null,
   "id": "12945294",
   "metadata": {},
   "outputs": [],
   "source": [
    "model_enc_dec = Sequential()\n",
    "model_enc_dec.add(LSTM(100, activation='relu', input_shape=(LOOK_BACK, n_features)))\n",
    "model_enc_dec.add(RepeatVector(FORECAST_RANGE))\n",
    "model_enc_dec.add(LSTM(100, activation='relu', return_sequences=True))\n",
    "model_enc_dec.add(TimeDistributed(Dense(n_features)))\n",
    "model_enc_dec.compile(optimizer='adam', loss='mse')"
   ]
  },
  {
   "cell_type": "code",
   "execution_count": null,
   "id": "edac1f3b",
   "metadata": {},
   "outputs": [],
   "source": [
    "history = model_enc_dec.fit(X_train, y_train, epochs=epochs, batch_size=batch_size, validation_split=validation,callbacks=[early_stopping_callback, rlrop_callback])"
   ]
  },
  {
   "cell_type": "code",
   "execution_count": null,
   "id": "e53c0a33",
   "metadata": {},
   "outputs": [],
   "source": [
    "y_pred = model_enc_dec.predict(X_test, verbose=0)"
   ]
  },
  {
   "cell_type": "code",
   "execution_count": null,
   "id": "8d8396eb",
   "metadata": {},
   "outputs": [],
   "source": [
    "def eval_results(y_test,y_pred):\n",
    "    print('R^2 Score: ' + str(r2_score(y_test, y_pred)))\n",
    "    print('LSTM - RMSE: ' + str(mean_squared_error(y_test,y_pred, squared = False)))\n",
    "    print('LSTM - MAE: ' + str(mean_absolute_error(y_test,y_pred)))\n",
    "    plt.scatter(np.arange(len(y_test)), y_test,label='Observed')\n",
    "    plt.scatter(np.arange(len(y_test)), y_pred,label='Predicted')\n",
    "    plt.xlabel('Predicted Season')\n",
    "    plt.ylabel('Predicted ACE'),\n",
    "    plt.title('Testing Results')\n",
    "    plt.legend()\n",
    "    plt.show()\n",
    "    plt.scatter(y_test,y_pred)\n",
    "    plt.xlabel('Observed')\n",
    "    plt.ylabel('Predicted')\n",
    "    plt.title('Testing Results - Predicted v Observed')\n",
    "    plt.show()\n",
    "    plt.scatter(y_test, y_test-y_pred)\n",
    "    plt.plot(y_test,np.zeros(len(y_test)))\n",
    "    plt.xlabel('Observed')\n",
    "    plt.ylabel('Residual from Predicted')\n",
    "    plt.title('Testing Results - Residual')\n",
    "    plt.show()"
   ]
  },
  {
   "cell_type": "code",
   "execution_count": null,
   "id": "873b5451",
   "metadata": {},
   "outputs": [],
   "source": [
    "def eval_results_metrics_only(y_test,y_pred):\n",
    "    print('R^2 Score: ' + str(r2_score(y_test, y_pred)))\n",
    "    print('LSTM - RMSE: ' + str(mean_squared_error(y_test,y_pred, squared = False)))\n",
    "    print('LSTM - MAE: ' + str(mean_absolute_error(y_test,y_pred)))"
   ]
  },
  {
   "cell_type": "code",
   "execution_count": null,
   "id": "c05015ee",
   "metadata": {},
   "outputs": [],
   "source": [
    "X_pred = sst_cpl[100:].reshape((1,20,2624))\n",
    "y_next = model_enc_dec.predict(X_pred, verbose=0).reshape(12,2624)"
   ]
  },
  {
   "cell_type": "code",
   "execution_count": null,
   "id": "f61fda7d",
   "metadata": {},
   "outputs": [],
   "source": [
    "sst_cpl = np.concatenate((sst_cpl,y_next), axis=0)"
   ]
  },
  {
   "cell_type": "code",
   "execution_count": null,
   "id": "51985ce3",
   "metadata": {},
   "outputs": [],
   "source": [
    "train_set = sst_cpl[:80]\n",
    "test_set = sst_cpl[80:]\n",
    "X_train, y_train = split_sequence(train_set, LOOK_BACK, FORECAST_RANGE)\n",
    "X_test, y_test = split_sequence(test_set,LOOK_BACK,FORECAST_RANGE)"
   ]
  },
  {
   "cell_type": "code",
   "execution_count": null,
   "id": "e6a82495",
   "metadata": {},
   "outputs": [],
   "source": [
    "model_enc_dec = Sequential()\n",
    "model_enc_dec.add(LSTM(100, activation='relu', input_shape=(LOOK_BACK, n_features)))\n",
    "model_enc_dec.add(RepeatVector(FORECAST_RANGE))\n",
    "model_enc_dec.add(LSTM(100, activation='relu', return_sequences=True))\n",
    "model_enc_dec.add(TimeDistributed(Dense(n_features)))\n",
    "model_enc_dec.compile(optimizer='adam', loss='mse')"
   ]
  },
  {
   "cell_type": "code",
   "execution_count": null,
   "id": "1179b031",
   "metadata": {},
   "outputs": [],
   "source": [
    "history = model_enc_dec.fit(X_train, y_train, epochs=epochs, batch_size=batch_size, validation_split=validation,callbacks=[early_stopping_callback, rlrop_callback])"
   ]
  },
  {
   "cell_type": "code",
   "execution_count": null,
   "id": "0f630feb",
   "metadata": {},
   "outputs": [],
   "source": [
    "y_pred = model_enc_dec.predict(X_test, verbose=0)\n",
    "eval_results_metrics_only(y_test.flatten(),y_pred.flatten())"
   ]
  },
  {
   "cell_type": "code",
   "execution_count": null,
   "id": "820145e0",
   "metadata": {},
   "outputs": [],
   "source": [
    "X_pred = sst_cpl[112:].reshape((1,20,2624))\n",
    "y_next = model_enc_dec.predict(X_pred, verbose=0).reshape(12,2624)"
   ]
  },
  {
   "cell_type": "code",
   "execution_count": null,
   "id": "af3c74fd",
   "metadata": {},
   "outputs": [],
   "source": [
    "sst_cpl = np.concatenate((sst_cpl,y_next), axis=0)\n",
    "np.shape(sst_cpl)"
   ]
  },
  {
   "cell_type": "code",
   "execution_count": null,
   "id": "6d3baa6a",
   "metadata": {},
   "outputs": [],
   "source": [
    "train_set = sst_cpl[:90]\n",
    "test_set = sst_cpl[90:]\n",
    "X_train, y_train = split_sequence(train_set, LOOK_BACK, FORECAST_RANGE)\n",
    "X_test, y_test = split_sequence(test_set,LOOK_BACK,FORECAST_RANGE)"
   ]
  },
  {
   "cell_type": "code",
   "execution_count": null,
   "id": "afb3191d",
   "metadata": {},
   "outputs": [],
   "source": [
    "model_enc_dec = Sequential()\n",
    "model_enc_dec.add(LSTM(100, activation='relu', input_shape=(LOOK_BACK, n_features)))\n",
    "model_enc_dec.add(RepeatVector(FORECAST_RANGE))\n",
    "model_enc_dec.add(LSTM(100, activation='relu', return_sequences=True))\n",
    "model_enc_dec.add(TimeDistributed(Dense(n_features)))\n",
    "model_enc_dec.compile(optimizer='adam', loss='mse')"
   ]
  },
  {
   "cell_type": "code",
   "execution_count": null,
   "id": "9885dc34",
   "metadata": {},
   "outputs": [],
   "source": [
    "history = model_enc_dec.fit(X_train, y_train, epochs=epochs, batch_size=batch_size, validation_split=validation,callbacks=[early_stopping_callback, rlrop_callback])"
   ]
  },
  {
   "cell_type": "code",
   "execution_count": null,
   "id": "2da80b4d",
   "metadata": {},
   "outputs": [],
   "source": [
    "y_pred = model_enc_dec.predict(X_test, verbose=0)\n",
    "eval_results_metrics_only(y_test.flatten(),y_pred.flatten())"
   ]
  },
  {
   "cell_type": "code",
   "execution_count": null,
   "id": "3bcf5827",
   "metadata": {},
   "outputs": [],
   "source": [
    "X_pred = sst_cpl[124:].reshape((1,20,2624))\n",
    "y_next = model_enc_dec.predict(X_pred, verbose=0).reshape(12,2624)"
   ]
  },
  {
   "cell_type": "code",
   "execution_count": null,
   "id": "c19c357f",
   "metadata": {},
   "outputs": [],
   "source": [
    "sst_cpl= np.concatenate((sst_cpl,y_next), axis=0)\n",
    "np.shape(sst_cpl)"
   ]
  },
  {
   "cell_type": "code",
   "execution_count": null,
   "id": "64e5aac7",
   "metadata": {},
   "outputs": [],
   "source": [
    "train_set = sst_cpl[:90]\n",
    "test_set = sst_cpl[90:]\n",
    "X_train, y_train = split_sequence(train_set, LOOK_BACK, FORECAST_RANGE)\n",
    "X_test, y_test = split_sequence(test_set,LOOK_BACK,FORECAST_RANGE)"
   ]
  },
  {
   "cell_type": "code",
   "execution_count": null,
   "id": "413e8cab",
   "metadata": {},
   "outputs": [],
   "source": [
    "model_enc_dec = Sequential()\n",
    "model_enc_dec.add(LSTM(100, activation='relu', input_shape=(LOOK_BACK, n_features)))\n",
    "model_enc_dec.add(RepeatVector(FORECAST_RANGE))\n",
    "model_enc_dec.add(LSTM(100, activation='relu', return_sequences=True))\n",
    "model_enc_dec.add(TimeDistributed(Dense(n_features)))\n",
    "model_enc_dec.compile(optimizer='adam', loss='mse')"
   ]
  },
  {
   "cell_type": "code",
   "execution_count": null,
   "id": "8e64bf2f",
   "metadata": {},
   "outputs": [],
   "source": [
    "history = model_enc_dec.fit(X_train, y_train, epochs=epochs, batch_size=batch_size, validation_split=validation,callbacks=[early_stopping_callback, rlrop_callback])"
   ]
  },
  {
   "cell_type": "code",
   "execution_count": null,
   "id": "8473d240",
   "metadata": {},
   "outputs": [],
   "source": [
    "y_pred = model_enc_dec.predict(X_test, verbose=0)\n",
    "eval_results_metrics_only(y_test.flatten(),y_pred.flatten())\n",
    "\n",
    "X_pred = sst_cpl[136:].reshape((1,20,2624))\n",
    "y_next = model_enc_dec.predict(X_pred, verbose=0).reshape(12,2624)"
   ]
  },
  {
   "cell_type": "code",
   "execution_count": null,
   "id": "28dc70d9",
   "metadata": {},
   "outputs": [],
   "source": [
    "sst_cpl= np.concatenate((sst_cpl,y_next), axis=0)\n",
    "np.shape(sst_cpl)"
   ]
  },
  {
   "cell_type": "code",
   "execution_count": null,
   "id": "fd582150",
   "metadata": {},
   "outputs": [],
   "source": [
    "train_set = sst_cpl[:100]\n",
    "test_set = sst_cpl[100:]\n",
    "X_train, y_train = split_sequence(train_set, LOOK_BACK, FORECAST_RANGE)\n",
    "X_test, y_test = split_sequence(test_set,LOOK_BACK,FORECAST_RANGE)\n",
    "\n",
    "model_enc_dec = Sequential()\n",
    "model_enc_dec.add(LSTM(100, activation='relu', input_shape=(LOOK_BACK, n_features)))\n",
    "model_enc_dec.add(RepeatVector(FORECAST_RANGE))\n",
    "model_enc_dec.add(LSTM(100, activation='relu', return_sequences=True))\n",
    "model_enc_dec.add(TimeDistributed(Dense(n_features)))\n",
    "model_enc_dec.compile(optimizer='adam', loss='mse')"
   ]
  },
  {
   "cell_type": "code",
   "execution_count": null,
   "id": "81884099",
   "metadata": {},
   "outputs": [],
   "source": [
    "history = model_enc_dec.fit(X_train, y_train, epochs=epochs, batch_size=batch_size, validation_split=validation,callbacks=[early_stopping_callback, rlrop_callback])"
   ]
  },
  {
   "cell_type": "code",
   "execution_count": null,
   "id": "3df6a4a2",
   "metadata": {},
   "outputs": [],
   "source": [
    "y_pred = model_enc_dec.predict(X_test, verbose=0)\n",
    "eval_results_metrics_only(y_test.flatten(),y_pred.flatten())\n",
    "\n",
    "X_pred = sst_cpl[148:].reshape((1,20,2624))\n",
    "y_next = model_enc_dec.predict(X_pred, verbose=0).reshape(12,2624)"
   ]
  },
  {
   "cell_type": "code",
   "execution_count": null,
   "id": "9c2ae969",
   "metadata": {},
   "outputs": [],
   "source": [
    "sst_cpl_2020 = y_next.reshape((12,64,41))"
   ]
  },
  {
   "cell_type": "code",
   "execution_count": null,
   "id": "3fe4560f",
   "metadata": {},
   "outputs": [],
   "source": [
    "sst_cpl = cfl['SST_cpl'].to_numpy().reshape(120,2624)\n",
    "LOOK_BACK = 25\n",
    "FORECAST_RANGE = 20"
   ]
  },
  {
   "cell_type": "code",
   "execution_count": null,
   "id": "1502693c",
   "metadata": {},
   "outputs": [],
   "source": [
    "train_set = sst_cpl[:65]\n",
    "test_set = sst_cpl[65:]\n",
    "X_train, y_train = split_sequence(train_set, LOOK_BACK, FORECAST_RANGE)\n",
    "X_test, y_test = split_sequence(test_set,LOOK_BACK,FORECAST_RANGE)\n",
    "\n",
    "model_enc_dec = Sequential()\n",
    "model_enc_dec.add(LSTM(100, activation='relu', input_shape=(LOOK_BACK, n_features)))\n",
    "model_enc_dec.add(RepeatVector(FORECAST_RANGE))\n",
    "model_enc_dec.add(LSTM(100, activation='relu', return_sequences=True))\n",
    "model_enc_dec.add(TimeDistributed(Dense(n_features)))\n",
    "model_enc_dec.compile(optimizer='adam', loss='mse')"
   ]
  },
  {
   "cell_type": "code",
   "execution_count": null,
   "id": "367a32b9",
   "metadata": {},
   "outputs": [],
   "source": [
    "history = model_enc_dec.fit(X_train, y_train, epochs=epochs, batch_size=batch_size, validation_split=validation,callbacks=[early_stopping_callback, rlrop_callback])"
   ]
  },
  {
   "cell_type": "code",
   "execution_count": null,
   "id": "a58ac286",
   "metadata": {},
   "outputs": [],
   "source": [
    "y_pred = model_enc_dec.predict(X_test, verbose=0)\n",
    "eval_results_metrics_only(y_test.flatten(),y_pred.flatten())\n",
    "\n",
    "X_pred = sst_cpl[95:].reshape((1,25,2624))\n",
    "y_next = model_enc_dec.predict(X_pred, verbose=0).reshape(20,2624)"
   ]
  },
  {
   "cell_type": "code",
   "execution_count": null,
   "id": "31e181fc",
   "metadata": {},
   "outputs": [],
   "source": [
    "sst_cpl= np.concatenate((sst_cpl,y_next), axis=0)\n",
    "np.shape(sst_cpl)"
   ]
  },
  {
   "cell_type": "code",
   "execution_count": null,
   "id": "2a052f30",
   "metadata": {},
   "outputs": [],
   "source": [
    "train_set = sst_cpl[:75]\n",
    "test_set = sst_cpl[75:]\n",
    "X_train, y_train = split_sequence(train_set, LOOK_BACK, FORECAST_RANGE)\n",
    "X_test, y_test = split_sequence(test_set,LOOK_BACK,FORECAST_RANGE)\n",
    "\n",
    "model_enc_dec = Sequential()\n",
    "model_enc_dec.add(LSTM(100, activation='relu', input_shape=(LOOK_BACK, n_features)))\n",
    "model_enc_dec.add(RepeatVector(FORECAST_RANGE))\n",
    "model_enc_dec.add(LSTM(100, activation='relu', return_sequences=True))\n",
    "model_enc_dec.add(TimeDistributed(Dense(n_features)))\n",
    "model_enc_dec.compile(optimizer='adam', loss='mse')"
   ]
  },
  {
   "cell_type": "code",
   "execution_count": null,
   "id": "835849d4",
   "metadata": {},
   "outputs": [],
   "source": [
    "history = model_enc_dec.fit(X_train, y_train, epochs=epochs, batch_size=batch_size, validation_split=validation,callbacks=[early_stopping_callback, rlrop_callback])"
   ]
  },
  {
   "cell_type": "code",
   "execution_count": null,
   "id": "a0a2144d",
   "metadata": {},
   "outputs": [],
   "source": [
    "y_pred = model_enc_dec.predict(X_test, verbose=0)\n",
    "eval_results_metrics_only(y_test.flatten(),y_pred.flatten())\n",
    "\n",
    "X_pred = sst_cpl[115:].reshape((1,25,2624))\n",
    "y_next = model_enc_dec.predict(X_pred, verbose=0).reshape(20,2624)"
   ]
  },
  {
   "cell_type": "code",
   "execution_count": null,
   "id": "9cde8b0b",
   "metadata": {},
   "outputs": [],
   "source": [
    "sst_cpl= np.concatenate((sst_cpl,y_next), axis=0)\n",
    "np.shape(sst_cpl)"
   ]
  },
  {
   "cell_type": "code",
   "execution_count": null,
   "id": "f3b8bc68",
   "metadata": {},
   "outputs": [],
   "source": [
    "train_set = sst_cpl[:90]\n",
    "test_set = sst_cpl[90:]\n",
    "X_train, y_train = split_sequence(train_set, LOOK_BACK, FORECAST_RANGE)\n",
    "X_test, y_test = split_sequence(test_set,LOOK_BACK,FORECAST_RANGE)\n",
    "\n",
    "model_enc_dec = Sequential()\n",
    "model_enc_dec.add(LSTM(100, activation='relu', input_shape=(LOOK_BACK, n_features)))\n",
    "model_enc_dec.add(RepeatVector(FORECAST_RANGE))\n",
    "model_enc_dec.add(LSTM(100, activation='relu', return_sequences=True))\n",
    "model_enc_dec.add(TimeDistributed(Dense(n_features)))\n",
    "model_enc_dec.compile(optimizer='adam', loss='mse')"
   ]
  },
  {
   "cell_type": "code",
   "execution_count": null,
   "id": "44bb9916",
   "metadata": {},
   "outputs": [],
   "source": [
    "history = model_enc_dec.fit(X_train, y_train, epochs=epochs, batch_size=batch_size, validation_split=validation,callbacks=[early_stopping_callback, rlrop_callback])"
   ]
  },
  {
   "cell_type": "code",
   "execution_count": null,
   "id": "91e640af",
   "metadata": {},
   "outputs": [],
   "source": [
    "y_pred = model_enc_dec.predict(X_test, verbose=0)\n",
    "eval_results_metrics_only(y_test.flatten(),y_pred.flatten())\n",
    "\n",
    "X_pred = sst_cpl[135:].reshape((1,25,2624))\n",
    "y_next = model_enc_dec.predict(X_pred, verbose=0).reshape(20,2624)"
   ]
  },
  {
   "cell_type": "code",
   "execution_count": null,
   "id": "2b32ad30",
   "metadata": {},
   "outputs": [],
   "source": [
    "sst_cpl= np.concatenate((sst_cpl,y_next), axis=0)\n",
    "np.shape(sst_cpl)"
   ]
  },
  {
   "cell_type": "code",
   "execution_count": null,
   "id": "d224612d",
   "metadata": {},
   "outputs": [],
   "source": []
  },
  {
   "cell_type": "code",
   "execution_count": null,
   "id": "f0208cc4",
   "metadata": {},
   "outputs": [],
   "source": [
    "ice_cov = cfl['ice_cov'].to_numpy().reshape(120,2624)\n",
    "psl = cfl['psl'].to_numpy().reshape(120,2624)"
   ]
  },
  {
   "cell_type": "code",
   "execution_count": null,
   "id": "6798b261",
   "metadata": {},
   "outputs": [],
   "source": [
    "ua_50k = cfl['ua_50000'].to_numpy().reshape(120,2624)\n",
    "va_50k = cfl['va_50000'].to_numpy().reshape(120,2624)"
   ]
  },
  {
   "cell_type": "code",
   "execution_count": null,
   "id": "cb817401",
   "metadata": {},
   "outputs": [],
   "source": [
    "class EarlyStoppingByLossVal(Callback):\n",
    "    def __init__(self, monitor='val_loss', value=0.00001, verbose=0):\n",
    "        super(Callback, self).__init__()\n",
    "        self.monitor = monitor\n",
    "        self.value = value\n",
    "        self.verbose = verbose\n",
    "\n",
    "    def on_epoch_end(self, epoch, logs={}):\n",
    "        current = logs.get(self.monitor)\n",
    "        if current is None:\n",
    "            warnings.warn(\"Early stopping requires %s available!\" % self.monitor, RuntimeWarning)\n",
    "\n",
    "        if current < self.value:\n",
    "            if self.verbose > 0:\n",
    "                print(\"Epoch %05d: early stopping THR\" % epoch)\n",
    "            self.model.stop_training = True\n",
    "\n",
    "def split_sequence(sequence, look_back, forecast_horizon):\n",
    "    X, y = list(), list()\n",
    "    for i in range(len(sequence)): \n",
    "        lag_end = i + look_back\n",
    "        forecast_end = lag_end + forecast_horizon\n",
    "        if forecast_end > len(sequence):\n",
    "            break\n",
    "        seq_x, seq_y = sequence[i:lag_end], sequence[lag_end:forecast_end]\n",
    "        X.append(seq_x)\n",
    "        y.append(seq_y)\n",
    "    return np.array(X), np.array(y)\n",
    "\n",
    "early_stopping_callback = EarlyStoppingByLossVal(monitor='val_loss', value=1, verbose=1)\n",
    "rlrop_callback = ReduceLROnPlateau(monitor='val_loss', factor=0.2, mode='min', patience=3, min_lr=0.001)\n",
    "epochs = 250\n",
    "batch_size = 16\n",
    "validation = 0.1\n",
    "LOOK_BACK = 20\n",
    "FORECAST_RANGE = 12\n",
    "n_features = 2624"
   ]
  },
  {
   "cell_type": "code",
   "execution_count": null,
   "id": "39a4f809",
   "metadata": {},
   "outputs": [],
   "source": [
    "train_set = ice_cov[:70]\n",
    "test_set = ice_cov[70:]\n",
    "X_train, y_train = split_sequence(train_set, LOOK_BACK, FORECAST_RANGE)\n",
    "X_test, y_test = split_sequence(test_set,LOOK_BACK,FORECAST_RANGE)\n",
    "\n",
    "model_enc_dec = Sequential()\n",
    "model_enc_dec.add(LSTM(100, activation='relu', input_shape=(LOOK_BACK, n_features)))\n",
    "model_enc_dec.add(RepeatVector(FORECAST_RANGE))\n",
    "model_enc_dec.add(LSTM(100, activation='relu', return_sequences=True))\n",
    "model_enc_dec.add(TimeDistributed(Dense(n_features)))\n",
    "model_enc_dec.compile(optimizer='adam', loss='mse')"
   ]
  },
  {
   "cell_type": "code",
   "execution_count": null,
   "id": "a93193f1",
   "metadata": {},
   "outputs": [],
   "source": [
    "history = model_enc_dec.fit(X_train, y_train, epochs=epochs, batch_size=batch_size, validation_split=validation,callbacks=[early_stopping_callback, rlrop_callback])"
   ]
  },
  {
   "cell_type": "code",
   "execution_count": null,
   "id": "5d836336",
   "metadata": {},
   "outputs": [],
   "source": [
    "y_pred = model_enc_dec.predict(X_test, verbose=0)\n",
    "eval_results_metrics_only(y_test.flatten(),y_pred.flatten())\n",
    "\n",
    "X_pred = ice_cov[100:].reshape((1,20,2624))\n",
    "y_next = model_enc_dec.predict(X_pred, verbose=0).reshape(12,2624)"
   ]
  },
  {
   "cell_type": "code",
   "execution_count": null,
   "id": "4251cde2",
   "metadata": {},
   "outputs": [],
   "source": [
    "ice_cov= np.concatenate((ice_cov,y_next), axis=0)\n",
    "np.shape(ice_cov)"
   ]
  },
  {
   "cell_type": "code",
   "execution_count": null,
   "id": "907b2668",
   "metadata": {},
   "outputs": [],
   "source": [
    "train_set = ice_cov[:80]\n",
    "test_set = ice_cov[80:]\n",
    "X_train, y_train = split_sequence(train_set, LOOK_BACK, FORECAST_RANGE)\n",
    "X_test, y_test = split_sequence(test_set,LOOK_BACK,FORECAST_RANGE)\n",
    "\n",
    "model_enc_dec = Sequential()\n",
    "model_enc_dec.add(LSTM(100, activation='relu', input_shape=(LOOK_BACK, n_features)))\n",
    "model_enc_dec.add(RepeatVector(FORECAST_RANGE))\n",
    "model_enc_dec.add(LSTM(100, activation='relu', return_sequences=True))\n",
    "model_enc_dec.add(TimeDistributed(Dense(n_features)))\n",
    "model_enc_dec.compile(optimizer='adam', loss='mse')"
   ]
  },
  {
   "cell_type": "code",
   "execution_count": null,
   "id": "bfcdca8f",
   "metadata": {},
   "outputs": [],
   "source": [
    "history = model_enc_dec.fit(X_train, y_train, epochs=epochs, batch_size=batch_size, validation_split=validation,callbacks=[early_stopping_callback, rlrop_callback])"
   ]
  },
  {
   "cell_type": "code",
   "execution_count": null,
   "id": "62a199a0",
   "metadata": {},
   "outputs": [],
   "source": [
    "y_pred = model_enc_dec.predict(X_test, verbose=0)\n",
    "eval_results_metrics_only(y_test.flatten(),y_pred.flatten())\n",
    "\n",
    "X_pred = ice_cov[112:].reshape((1,20,2624))\n",
    "y_next = model_enc_dec.predict(X_pred, verbose=0).reshape(12,2624)"
   ]
  },
  {
   "cell_type": "code",
   "execution_count": null,
   "id": "b95cbb86",
   "metadata": {},
   "outputs": [],
   "source": [
    "ice_cov= np.concatenate((ice_cov,y_next), axis=0)\n",
    "np.shape(ice_cov)"
   ]
  },
  {
   "cell_type": "code",
   "execution_count": null,
   "id": "e5ed6b22",
   "metadata": {},
   "outputs": [],
   "source": [
    "train_set = ice_cov[:90]\n",
    "test_set = ice_cov[90:]\n",
    "X_train, y_train = split_sequence(train_set, LOOK_BACK, FORECAST_RANGE)\n",
    "X_test, y_test = split_sequence(test_set,LOOK_BACK,FORECAST_RANGE)\n",
    "\n",
    "model_enc_dec = Sequential()\n",
    "model_enc_dec.add(LSTM(100, activation='relu', input_shape=(LOOK_BACK, n_features)))\n",
    "model_enc_dec.add(RepeatVector(FORECAST_RANGE))\n",
    "model_enc_dec.add(LSTM(100, activation='relu', return_sequences=True))\n",
    "model_enc_dec.add(TimeDistributed(Dense(n_features)))\n",
    "model_enc_dec.compile(optimizer='adam', loss='mse')"
   ]
  },
  {
   "cell_type": "code",
   "execution_count": null,
   "id": "cd30612a",
   "metadata": {},
   "outputs": [],
   "source": [
    "history = model_enc_dec.fit(X_train, y_train, epochs=epochs, batch_size=batch_size, validation_split=validation,callbacks=[early_stopping_callback, rlrop_callback])"
   ]
  },
  {
   "cell_type": "code",
   "execution_count": null,
   "id": "ef84a29a",
   "metadata": {},
   "outputs": [],
   "source": [
    "y_pred = model_enc_dec.predict(X_test, verbose=0)\n",
    "eval_results_metrics_only(y_test.flatten(),y_pred.flatten())\n",
    "\n",
    "X_pred = ice_cov[124:].reshape((1,20,2624))\n",
    "y_next = model_enc_dec.predict(X_pred, verbose=0).reshape(12,2624)"
   ]
  },
  {
   "cell_type": "code",
   "execution_count": null,
   "id": "8be80706",
   "metadata": {},
   "outputs": [],
   "source": [
    "ice_cov= np.concatenate((ice_cov,y_next), axis=0)\n",
    "np.shape(ice_cov)"
   ]
  },
  {
   "cell_type": "code",
   "execution_count": null,
   "id": "c895fb46",
   "metadata": {},
   "outputs": [],
   "source": [
    "train_set = ice_cov[:100]\n",
    "test_set = ice_cov[100:]\n",
    "X_train, y_train = split_sequence(train_set, LOOK_BACK, FORECAST_RANGE)\n",
    "X_test, y_test = split_sequence(test_set,LOOK_BACK,FORECAST_RANGE)\n",
    "\n",
    "model_enc_dec = Sequential()\n",
    "model_enc_dec.add(LSTM(100, activation='relu', input_shape=(LOOK_BACK, n_features)))\n",
    "model_enc_dec.add(RepeatVector(FORECAST_RANGE))\n",
    "model_enc_dec.add(LSTM(100, activation='relu', return_sequences=True))\n",
    "model_enc_dec.add(TimeDistributed(Dense(n_features)))\n",
    "model_enc_dec.compile(optimizer='adam', loss='mse')"
   ]
  },
  {
   "cell_type": "code",
   "execution_count": null,
   "id": "035ce304",
   "metadata": {},
   "outputs": [],
   "source": [
    "history = model_enc_dec.fit(X_train, y_train, epochs=epochs, batch_size=batch_size, validation_split=validation,callbacks=[early_stopping_callback, rlrop_callback])"
   ]
  },
  {
   "cell_type": "code",
   "execution_count": null,
   "id": "78e96153",
   "metadata": {},
   "outputs": [],
   "source": [
    "y_pred = model_enc_dec.predict(X_test, verbose=0)\n",
    "eval_results_metrics_only(y_test.flatten(),y_pred.flatten())\n",
    "\n",
    "X_pred = ice_cov[136:].reshape((1,20,2624))\n",
    "y_next = model_enc_dec.predict(X_pred, verbose=0).reshape(12,2624)"
   ]
  },
  {
   "cell_type": "code",
   "execution_count": null,
   "id": "5dba5def",
   "metadata": {},
   "outputs": [],
   "source": [
    "ice_cov= np.concatenate((ice_cov,y_next), axis=0)\n",
    "np.shape(ice_cov)"
   ]
  },
  {
   "cell_type": "code",
   "execution_count": null,
   "id": "4966fa78",
   "metadata": {},
   "outputs": [],
   "source": [
    "train_set = ice_cov[:110]\n",
    "test_set = ice_cov[110:]\n",
    "X_train, y_train = split_sequence(train_set, LOOK_BACK, FORECAST_RANGE)\n",
    "X_test, y_test = split_sequence(test_set,LOOK_BACK,FORECAST_RANGE)\n",
    "\n",
    "model_enc_dec = Sequential()\n",
    "model_enc_dec.add(LSTM(100, activation='relu', input_shape=(LOOK_BACK, n_features)))\n",
    "model_enc_dec.add(RepeatVector(FORECAST_RANGE))\n",
    "model_enc_dec.add(LSTM(100, activation='relu', return_sequences=True))\n",
    "model_enc_dec.add(TimeDistributed(Dense(n_features)))\n",
    "model_enc_dec.compile(optimizer='adam', loss='mse')"
   ]
  },
  {
   "cell_type": "code",
   "execution_count": null,
   "id": "7e257cc5",
   "metadata": {},
   "outputs": [],
   "source": [
    "history = model_enc_dec.fit(X_train, y_train, epochs=epochs, batch_size=batch_size, validation_split=validation,callbacks=[early_stopping_callback, rlrop_callback])"
   ]
  },
  {
   "cell_type": "code",
   "execution_count": null,
   "id": "1b39abe0",
   "metadata": {},
   "outputs": [],
   "source": [
    "y_pred = model_enc_dec.predict(X_test, verbose=0)\n",
    "eval_results_metrics_only(y_test.flatten(),y_pred.flatten())\n",
    "\n",
    "X_pred = ice_cov[148:].reshape((1,20,2624))\n",
    "y_next = model_enc_dec.predict(X_pred, verbose=0).reshape(12,2624)"
   ]
  },
  {
   "cell_type": "code",
   "execution_count": null,
   "id": "5e9b861b",
   "metadata": {},
   "outputs": [],
   "source": [
    "ice_cov= np.concatenate((ice_cov,y_next), axis=0)\n",
    "np.shape(ice_cov)"
   ]
  },
  {
   "cell_type": "code",
   "execution_count": null,
   "id": "ca41a8cc",
   "metadata": {},
   "outputs": [],
   "source": [
    "train_set = ice_cov[:120]\n",
    "test_set = ice_cov[120:]\n",
    "X_train, y_train = split_sequence(train_set, LOOK_BACK, FORECAST_RANGE)\n",
    "X_test, y_test = split_sequence(test_set,LOOK_BACK,FORECAST_RANGE)\n",
    "\n",
    "model_enc_dec = Sequential()\n",
    "model_enc_dec.add(LSTM(100, activation='relu', input_shape=(LOOK_BACK, n_features)))\n",
    "model_enc_dec.add(RepeatVector(FORECAST_RANGE))\n",
    "model_enc_dec.add(LSTM(100, activation='relu', return_sequences=True))\n",
    "model_enc_dec.add(TimeDistributed(Dense(n_features)))\n",
    "model_enc_dec.compile(optimizer='adam', loss='mse')"
   ]
  },
  {
   "cell_type": "code",
   "execution_count": null,
   "id": "3b82efd8",
   "metadata": {},
   "outputs": [],
   "source": [
    "history = model_enc_dec.fit(X_train, y_train, epochs=epochs, batch_size=batch_size, validation_split=validation,callbacks=[early_stopping_callback, rlrop_callback])"
   ]
  },
  {
   "cell_type": "code",
   "execution_count": null,
   "id": "8f5f3cb5",
   "metadata": {},
   "outputs": [],
   "source": [
    "y_pred = model_enc_dec.predict(X_test, verbose=0)\n",
    "eval_results_metrics_only(y_test.flatten(),y_pred.flatten())\n",
    "\n",
    "X_pred = ice_cov[160:].reshape((1,20,2624))\n",
    "ice_cov_2020 = model_enc_dec.predict(X_pred, verbose=0).reshape(12,2624)"
   ]
  },
  {
   "cell_type": "code",
   "execution_count": null,
   "id": "47462152",
   "metadata": {},
   "outputs": [],
   "source": [
    "train_set = psl[:70]\n",
    "test_set = psl[70:]\n",
    "X_train, y_train = split_sequence(train_set, LOOK_BACK, FORECAST_RANGE)\n",
    "X_test, y_test = split_sequence(test_set,LOOK_BACK,FORECAST_RANGE)\n",
    "\n",
    "model_enc_dec = Sequential()\n",
    "model_enc_dec.add(LSTM(100, activation='relu', input_shape=(LOOK_BACK, n_features)))\n",
    "model_enc_dec.add(RepeatVector(FORECAST_RANGE))\n",
    "model_enc_dec.add(LSTM(100, activation='relu', return_sequences=True))\n",
    "model_enc_dec.add(TimeDistributed(Dense(n_features)))\n",
    "model_enc_dec.compile(optimizer='adam', loss='mse')"
   ]
  },
  {
   "cell_type": "code",
   "execution_count": null,
   "id": "ea78182a",
   "metadata": {},
   "outputs": [],
   "source": [
    "history = model_enc_dec.fit(X_train, y_train, epochs=epochs, batch_size=batch_size, validation_split=validation,callbacks=[early_stopping_callback, rlrop_callback])"
   ]
  },
  {
   "cell_type": "code",
   "execution_count": null,
   "id": "6a6b2970",
   "metadata": {},
   "outputs": [],
   "source": [
    "y_pred = model_enc_dec.predict(X_test, verbose=0)\n",
    "eval_results_metrics_only(y_test.flatten(),y_pred.flatten())\n",
    "\n",
    "X_pred = psl[100:].reshape((1,20,2624))\n",
    "y_next = model_enc_dec.predict(X_pred, verbose=0).reshape(12,2624)"
   ]
  },
  {
   "cell_type": "code",
   "execution_count": null,
   "id": "1e1bb077",
   "metadata": {},
   "outputs": [],
   "source": [
    "psl= np.concatenate((psl,y_next), axis=0)\n",
    "np.shape(psl)"
   ]
  },
  {
   "cell_type": "code",
   "execution_count": null,
   "id": "5d566cb5",
   "metadata": {},
   "outputs": [],
   "source": [
    "train_set = psl[:80]\n",
    "test_set = psl[80:]\n",
    "X_train, y_train = split_sequence(train_set, LOOK_BACK, FORECAST_RANGE)\n",
    "X_test, y_test = split_sequence(test_set,LOOK_BACK,FORECAST_RANGE)\n",
    "\n",
    "model_enc_dec = Sequential()\n",
    "model_enc_dec.add(LSTM(100, activation='relu', input_shape=(LOOK_BACK, n_features)))\n",
    "model_enc_dec.add(RepeatVector(FORECAST_RANGE))\n",
    "model_enc_dec.add(LSTM(100, activation='relu', return_sequences=True))\n",
    "model_enc_dec.add(TimeDistributed(Dense(n_features)))\n",
    "model_enc_dec.compile(optimizer='adam', loss='mse')"
   ]
  },
  {
   "cell_type": "code",
   "execution_count": null,
   "id": "71cb3e36",
   "metadata": {},
   "outputs": [],
   "source": [
    "history = model_enc_dec.fit(X_train, y_train, epochs=epochs, batch_size=batch_size, validation_split=validation,callbacks=[early_stopping_callback, rlrop_callback])"
   ]
  },
  {
   "cell_type": "code",
   "execution_count": null,
   "id": "d5d479ac",
   "metadata": {},
   "outputs": [],
   "source": [
    "y_pred = model_enc_dec.predict(X_test, verbose=0)\n",
    "eval_results_metrics_only(y_test.flatten(),y_pred.flatten())\n",
    "\n",
    "X_pred = psl[112:].reshape((1,20,2624))\n",
    "y_next = model_enc_dec.predict(X_pred, verbose=0).reshape(12,2624)"
   ]
  },
  {
   "cell_type": "code",
   "execution_count": null,
   "id": "8cca1783",
   "metadata": {},
   "outputs": [],
   "source": [
    "psl= np.concatenate((psl,y_next), axis=0)\n",
    "np.shape(psl)"
   ]
  },
  {
   "cell_type": "code",
   "execution_count": null,
   "id": "b737d449",
   "metadata": {},
   "outputs": [],
   "source": [
    "train_set = psl[:90]\n",
    "test_set = psl[90:]\n",
    "X_train, y_train = split_sequence(train_set, LOOK_BACK, FORECAST_RANGE)\n",
    "X_test, y_test = split_sequence(test_set,LOOK_BACK,FORECAST_RANGE)\n",
    "\n",
    "model_enc_dec = Sequential()\n",
    "model_enc_dec.add(LSTM(100, activation='relu', input_shape=(LOOK_BACK, n_features)))\n",
    "model_enc_dec.add(RepeatVector(FORECAST_RANGE))\n",
    "model_enc_dec.add(LSTM(100, activation='relu', return_sequences=True))\n",
    "model_enc_dec.add(TimeDistributed(Dense(n_features)))\n",
    "model_enc_dec.compile(optimizer='adam', loss='mse')"
   ]
  },
  {
   "cell_type": "code",
   "execution_count": null,
   "id": "f208530f",
   "metadata": {},
   "outputs": [],
   "source": [
    "history = model_enc_dec.fit(X_train, y_train, epochs=epochs, batch_size=batch_size, validation_split=validation,callbacks=[early_stopping_callback, rlrop_callback])"
   ]
  },
  {
   "cell_type": "code",
   "execution_count": null,
   "id": "e965aa10",
   "metadata": {},
   "outputs": [],
   "source": [
    "y_pred = model_enc_dec.predict(X_test, verbose=0)\n",
    "eval_results_metrics_only(y_test.flatten(),y_pred.flatten())\n",
    "\n",
    "X_pred = psl[124:].reshape((1,20,2624))\n",
    "y_next = model_enc_dec.predict(X_pred, verbose=0).reshape(12,2624)"
   ]
  },
  {
   "cell_type": "code",
   "execution_count": null,
   "id": "e38696d4",
   "metadata": {},
   "outputs": [],
   "source": [
    "psl= np.concatenate((psl,y_next), axis=0)\n",
    "np.shape(psl)"
   ]
  },
  {
   "cell_type": "code",
   "execution_count": null,
   "id": "3c8a94b8",
   "metadata": {},
   "outputs": [],
   "source": [
    "train_set = psl[:100]\n",
    "test_set = psl[100:]\n",
    "X_train, y_train = split_sequence(train_set, LOOK_BACK, FORECAST_RANGE)\n",
    "X_test, y_test = split_sequence(test_set,LOOK_BACK,FORECAST_RANGE)\n",
    "\n",
    "model_enc_dec = Sequential()\n",
    "model_enc_dec.add(LSTM(100, activation='relu', input_shape=(LOOK_BACK, n_features)))\n",
    "model_enc_dec.add(RepeatVector(FORECAST_RANGE))\n",
    "model_enc_dec.add(LSTM(100, activation='relu', return_sequences=True))\n",
    "model_enc_dec.add(TimeDistributed(Dense(n_features)))\n",
    "model_enc_dec.compile(optimizer='adam', loss='mse')"
   ]
  },
  {
   "cell_type": "code",
   "execution_count": null,
   "id": "1ddcf67d",
   "metadata": {},
   "outputs": [],
   "source": [
    "history = model_enc_dec.fit(X_train, y_train, epochs=epochs, batch_size=batch_size, validation_split=validation,callbacks=[early_stopping_callback, rlrop_callback])"
   ]
  },
  {
   "cell_type": "code",
   "execution_count": null,
   "id": "203bc9f0",
   "metadata": {},
   "outputs": [],
   "source": [
    "y_pred = model_enc_dec.predict(X_test, verbose=0)\n",
    "eval_results_metrics_only(y_test.flatten(),y_pred.flatten())\n",
    "\n",
    "X_pred = psl[136:].reshape((1,20,2624))\n",
    "y_next = model_enc_dec.predict(X_pred, verbose=0).reshape(12,2624)"
   ]
  },
  {
   "cell_type": "code",
   "execution_count": null,
   "id": "8b5fad42",
   "metadata": {},
   "outputs": [],
   "source": [
    "psl= np.concatenate((psl,y_next), axis=0)\n",
    "np.shape(psl)"
   ]
  },
  {
   "cell_type": "code",
   "execution_count": null,
   "id": "dab056a6",
   "metadata": {},
   "outputs": [],
   "source": [
    "train_set = psl[:110]\n",
    "test_set = psl[110:]\n",
    "X_train, y_train = split_sequence(train_set, LOOK_BACK, FORECAST_RANGE)\n",
    "X_test, y_test = split_sequence(test_set,LOOK_BACK,FORECAST_RANGE)\n",
    "\n",
    "model_enc_dec = Sequential()\n",
    "model_enc_dec.add(LSTM(100, activation='relu', input_shape=(LOOK_BACK, n_features)))\n",
    "model_enc_dec.add(RepeatVector(FORECAST_RANGE))\n",
    "model_enc_dec.add(LSTM(100, activation='relu', return_sequences=True))\n",
    "model_enc_dec.add(TimeDistributed(Dense(n_features)))\n",
    "model_enc_dec.compile(optimizer='adam', loss='mse')"
   ]
  },
  {
   "cell_type": "code",
   "execution_count": null,
   "id": "d2f1ddcb",
   "metadata": {},
   "outputs": [],
   "source": [
    "history = model_enc_dec.fit(X_train, y_train, epochs=epochs, batch_size=batch_size, validation_split=validation,callbacks=[early_stopping_callback, rlrop_callback])"
   ]
  },
  {
   "cell_type": "code",
   "execution_count": null,
   "id": "55e68655",
   "metadata": {},
   "outputs": [],
   "source": [
    "y_pred = model_enc_dec.predict(X_test, verbose=0)\n",
    "eval_results_metrics_only(y_test.flatten(),y_pred.flatten())\n",
    "\n",
    "X_pred = psl[148:].reshape((1,20,2624))\n",
    "psl_2020 = model_enc_dec.predict(X_pred, verbose=0).reshape(12,2624)"
   ]
  },
  {
   "cell_type": "code",
   "execution_count": null,
   "id": "a78145a5",
   "metadata": {},
   "outputs": [],
   "source": [
    "psl= np.concatenate((psl,y_next), axis=0)\n",
    "np.shape(psl)"
   ]
  },
  {
   "cell_type": "code",
   "execution_count": null,
   "id": "ff207e8d",
   "metadata": {},
   "outputs": [],
   "source": [
    "np.count_nonzero(np.isnan(ua_50k))"
   ]
  },
  {
   "cell_type": "code",
   "execution_count": null,
   "id": "6f215836",
   "metadata": {},
   "outputs": [],
   "source": [
    "train_set = ua_50k[:70]\n",
    "test_set = ua_50k[70:]\n",
    "X_train, y_train = split_sequence(train_set, LOOK_BACK, FORECAST_RANGE)\n",
    "X_test, y_test = split_sequence(test_set,LOOK_BACK,FORECAST_RANGE)"
   ]
  },
  {
   "cell_type": "code",
   "execution_count": null,
   "id": "4e91741e",
   "metadata": {},
   "outputs": [],
   "source": [
    "model_enc_dec = Sequential()\n",
    "model_enc_dec.add(LSTM(100, activation='relu', input_shape=(LOOK_BACK, n_features)))\n",
    "model_enc_dec.add(RepeatVector(FORECAST_RANGE))\n",
    "model_enc_dec.add(LSTM(100, activation='relu', return_sequences=True))\n",
    "model_enc_dec.add(TimeDistributed(Dense(n_features)))\n",
    "model_enc_dec.compile(optimizer='adam', loss='mse')"
   ]
  },
  {
   "cell_type": "code",
   "execution_count": null,
   "id": "69537dd6",
   "metadata": {},
   "outputs": [],
   "source": [
    "history = model_enc_dec.fit(X_train, y_train, epochs=epochs, batch_size=batch_size, validation_split=validation,callbacks=[early_stopping_callback, rlrop_callback])"
   ]
  },
  {
   "cell_type": "code",
   "execution_count": null,
   "id": "562ccbe7",
   "metadata": {},
   "outputs": [],
   "source": [
    "y_pred = model_enc_dec.predict(X_test, verbose=0)\n",
    "eval_results_metrics_only(y_test.flatten(),y_pred.flatten())\n",
    "X_pred = ua_50k[100:].reshape((1,20,2624))\n",
    "y_next = model_enc_dec.predict(X_pred, verbose=0).reshape(12,2624)"
   ]
  },
  {
   "cell_type": "code",
   "execution_count": null,
   "id": "b8f9eee2",
   "metadata": {},
   "outputs": [],
   "source": [
    "ua_50k= np.concatenate((ua_50k,y_next), axis=0)\n",
    "np.shape(ua_50k)"
   ]
  },
  {
   "cell_type": "code",
   "execution_count": null,
   "id": "2d7f37ec",
   "metadata": {},
   "outputs": [],
   "source": [
    "train_set = ua_50k[:80]\n",
    "test_set = ua_50k[80:]\n",
    "X_train, y_train = split_sequence(train_set, LOOK_BACK, FORECAST_RANGE)\n",
    "X_test, y_test = split_sequence(test_set,LOOK_BACK,FORECAST_RANGE)"
   ]
  },
  {
   "cell_type": "code",
   "execution_count": null,
   "id": "94962eee",
   "metadata": {},
   "outputs": [],
   "source": []
  },
  {
   "cell_type": "code",
   "execution_count": null,
   "id": "e9d1eb7f",
   "metadata": {},
   "outputs": [],
   "source": [
    "model_enc_dec = Sequential()\n",
    "model_enc_dec.add(LSTM(100, activation='relu', input_shape=(LOOK_BACK, n_features)))\n",
    "model_enc_dec.add(RepeatVector(FORECAST_RANGE))\n",
    "model_enc_dec.add(LSTM(100, activation='relu', return_sequences=True))\n",
    "model_enc_dec.add(TimeDistributed(Dense(n_features)))\n",
    "model_enc_dec.compile(optimizer='adam', loss='mse')"
   ]
  },
  {
   "cell_type": "code",
   "execution_count": null,
   "id": "7a1b83d2",
   "metadata": {},
   "outputs": [],
   "source": [
    "history = model_enc_dec.fit(X_train, y_train, epochs=epochs, batch_size=batch_size, validation_split=validation,callbacks=[early_stopping_callback, rlrop_callback])"
   ]
  },
  {
   "cell_type": "code",
   "execution_count": null,
   "id": "c0218492",
   "metadata": {},
   "outputs": [],
   "source": [
    "y_pred = model_enc_dec.predict(X_test, verbose=0)\n",
    "eval_results_metrics_only(y_test.flatten(),y_pred.flatten())\n",
    "X_pred = ua_50k[112:].reshape((1,20,2624))\n",
    "y_next = model_enc_dec.predict(X_pred, verbose=0).reshape(12,2624)"
   ]
  },
  {
   "cell_type": "code",
   "execution_count": null,
   "id": "96ce6faf",
   "metadata": {},
   "outputs": [],
   "source": [
    "ua_50k= np.concatenate((ua_50k,y_next), axis=0)\n",
    "np.shape(ua_50k)"
   ]
  },
  {
   "cell_type": "code",
   "execution_count": null,
   "id": "e9067a6a",
   "metadata": {},
   "outputs": [],
   "source": [
    "train_set = ua_50k[:90]\n",
    "test_set = ua_50k[90:]\n",
    "X_train, y_train = split_sequence(train_set, LOOK_BACK, FORECAST_RANGE)\n",
    "X_test, y_test = split_sequence(test_set,LOOK_BACK,FORECAST_RANGE)"
   ]
  },
  {
   "cell_type": "code",
   "execution_count": null,
   "id": "375aebfd",
   "metadata": {},
   "outputs": [],
   "source": [
    "model_enc_dec = Sequential()\n",
    "model_enc_dec.add(LSTM(100, activation='relu', input_shape=(LOOK_BACK, n_features)))\n",
    "model_enc_dec.add(RepeatVector(FORECAST_RANGE))\n",
    "model_enc_dec.add(LSTM(100, activation='relu', return_sequences=True))\n",
    "model_enc_dec.add(TimeDistributed(Dense(n_features)))\n",
    "model_enc_dec.compile(optimizer='adam', loss='mse')"
   ]
  },
  {
   "cell_type": "code",
   "execution_count": null,
   "id": "d090e585",
   "metadata": {},
   "outputs": [],
   "source": [
    "history = model_enc_dec.fit(X_train, y_train, epochs=epochs, batch_size=batch_size, validation_split=validation,callbacks=[early_stopping_callback, rlrop_callback])"
   ]
  },
  {
   "cell_type": "code",
   "execution_count": null,
   "id": "e582b20c",
   "metadata": {},
   "outputs": [],
   "source": [
    "y_pred = model_enc_dec.predict(X_test, verbose=0)\n",
    "eval_results_metrics_only(y_test.flatten(),y_pred.flatten())\n",
    "X_pred = ua_50k[124:].reshape((1,20,2624))\n",
    "y_next = model_enc_dec.predict(X_pred, verbose=0).reshape(12,2624)"
   ]
  },
  {
   "cell_type": "code",
   "execution_count": null,
   "id": "b8478435",
   "metadata": {},
   "outputs": [],
   "source": [
    "ua_50k= np.concatenate((ua_50k,y_next), axis=0)\n",
    "np.shape(ua_50k)"
   ]
  },
  {
   "cell_type": "code",
   "execution_count": null,
   "id": "b30e0dca",
   "metadata": {},
   "outputs": [],
   "source": [
    "train_set = ua_50k[:100]\n",
    "test_set = ua_50k[100:]\n",
    "X_train, y_train = split_sequence(train_set, LOOK_BACK, FORECAST_RANGE)\n",
    "X_test, y_test = split_sequence(test_set,LOOK_BACK,FORECAST_RANGE)"
   ]
  },
  {
   "cell_type": "code",
   "execution_count": null,
   "id": "c125a1fd",
   "metadata": {},
   "outputs": [],
   "source": [
    "model_enc_dec = Sequential()\n",
    "model_enc_dec.add(LSTM(100, activation='relu', input_shape=(LOOK_BACK, n_features)))\n",
    "model_enc_dec.add(RepeatVector(FORECAST_RANGE))\n",
    "model_enc_dec.add(LSTM(100, activation='relu', return_sequences=True))\n",
    "model_enc_dec.add(TimeDistributed(Dense(n_features)))\n",
    "model_enc_dec.compile(optimizer='adam', loss='mse')"
   ]
  },
  {
   "cell_type": "code",
   "execution_count": null,
   "id": "004df34d",
   "metadata": {},
   "outputs": [],
   "source": [
    "history = model_enc_dec.fit(X_train, y_train, epochs=epochs, batch_size=batch_size, validation_split=validation,callbacks=[early_stopping_callback, rlrop_callback])"
   ]
  },
  {
   "cell_type": "code",
   "execution_count": null,
   "id": "bc5ac18e",
   "metadata": {},
   "outputs": [],
   "source": [
    "y_pred = model_enc_dec.predict(X_test, verbose=0)\n",
    "eval_results_metrics_only(y_test.flatten(),y_pred.flatten())\n",
    "X_pred = ua_50k[136:].reshape((1,20,2624))\n",
    "y_next = model_enc_dec.predict(X_pred, verbose=0).reshape(12,2624)"
   ]
  },
  {
   "cell_type": "code",
   "execution_count": null,
   "id": "d471cf2c",
   "metadata": {},
   "outputs": [],
   "source": [
    "ua_50k= np.concatenate((ua_50k,y_next), axis=0)\n",
    "np.shape(ua_50k)"
   ]
  },
  {
   "cell_type": "code",
   "execution_count": null,
   "id": "53a18627",
   "metadata": {},
   "outputs": [],
   "source": [
    "train_set = ua_50k[:110]\n",
    "test_set = ua_50k[110:]\n",
    "X_train, y_train = split_sequence(train_set, LOOK_BACK, FORECAST_RANGE)\n",
    "X_test, y_test = split_sequence(test_set,LOOK_BACK,FORECAST_RANGE)"
   ]
  },
  {
   "cell_type": "code",
   "execution_count": null,
   "id": "35dd44be",
   "metadata": {},
   "outputs": [],
   "source": [
    "model_enc_dec = Sequential()\n",
    "model_enc_dec.add(LSTM(100, activation='relu', input_shape=(LOOK_BACK, n_features)))\n",
    "model_enc_dec.add(RepeatVector(FORECAST_RANGE))\n",
    "model_enc_dec.add(LSTM(100, activation='relu', return_sequences=True))\n",
    "model_enc_dec.add(TimeDistributed(Dense(n_features)))\n",
    "model_enc_dec.compile(optimizer='adam', loss='mse')"
   ]
  },
  {
   "cell_type": "code",
   "execution_count": null,
   "id": "cef2cfff",
   "metadata": {},
   "outputs": [],
   "source": [
    "history = model_enc_dec.fit(X_train, y_train, epochs=epochs, batch_size=batch_size, validation_split=validation,callbacks=[early_stopping_callback, rlrop_callback])"
   ]
  },
  {
   "cell_type": "code",
   "execution_count": null,
   "id": "27be238e",
   "metadata": {},
   "outputs": [],
   "source": [
    "y_pred = model_enc_dec.predict(X_test, verbose=0)\n",
    "eval_results_metrics_only(y_test.flatten(),y_pred.flatten())\n",
    "X_pred = ua_50k[148:].reshape((1,20,2624))\n",
    "ua_50k_2020 = model_enc_dec.predict(X_pred, verbose=0).reshape(12,2624)"
   ]
  },
  {
   "cell_type": "code",
   "execution_count": null,
   "id": "cf2044e4",
   "metadata": {},
   "outputs": [],
   "source": [
    "ua_50k= np.concatenate((ua_50k,ua_50k_2020), axis=0)\n",
    "np.shape(ua_50k)"
   ]
  },
  {
   "cell_type": "code",
   "execution_count": null,
   "id": "6c54f5d0",
   "metadata": {},
   "outputs": [],
   "source": [
    "train_set = va_50k[:70]\n",
    "test_set = va_50k[70:]\n",
    "X_train, y_train = split_sequence(train_set, LOOK_BACK, FORECAST_RANGE)\n",
    "X_test, y_test = split_sequence(test_set,LOOK_BACK,FORECAST_RANGE)"
   ]
  },
  {
   "cell_type": "code",
   "execution_count": null,
   "id": "4bf08ccc",
   "metadata": {},
   "outputs": [],
   "source": [
    "model_enc_dec = Sequential()\n",
    "model_enc_dec.add(LSTM(100, activation='relu', input_shape=(LOOK_BACK, n_features)))\n",
    "model_enc_dec.add(RepeatVector(FORECAST_RANGE))\n",
    "model_enc_dec.add(LSTM(100, activation='relu', return_sequences=True))\n",
    "model_enc_dec.add(TimeDistributed(Dense(n_features)))\n",
    "model_enc_dec.compile(optimizer='adam', loss='mse')"
   ]
  },
  {
   "cell_type": "code",
   "execution_count": null,
   "id": "c72e0e3d",
   "metadata": {},
   "outputs": [],
   "source": [
    "history = model_enc_dec.fit(X_train, y_train, epochs=epochs, batch_size=batch_size, validation_split=validation,callbacks=[early_stopping_callback, rlrop_callback])"
   ]
  },
  {
   "cell_type": "code",
   "execution_count": null,
   "id": "1591e3b0",
   "metadata": {},
   "outputs": [],
   "source": [
    "y_pred = model_enc_dec.predict(X_test, verbose=0)\n",
    "eval_results_metrics_only(y_test.flatten(),y_pred.flatten())\n",
    "X_pred = va_50k[100:].reshape((1,20,2624))\n",
    "y_next = model_enc_dec.predict(X_pred, verbose=0).reshape(12,2624)"
   ]
  },
  {
   "cell_type": "code",
   "execution_count": null,
   "id": "c4154ce4",
   "metadata": {},
   "outputs": [],
   "source": [
    "va_50k= np.concatenate((va_50k,y_next), axis=0)\n",
    "np.shape(va_50k)"
   ]
  },
  {
   "cell_type": "code",
   "execution_count": null,
   "id": "77c58b4f",
   "metadata": {},
   "outputs": [],
   "source": [
    "train_set = va_50k[:80]\n",
    "test_set = va_50k[80:]\n",
    "X_train, y_train = split_sequence(train_set, LOOK_BACK, FORECAST_RANGE)\n",
    "X_test, y_test = split_sequence(test_set,LOOK_BACK,FORECAST_RANGE)"
   ]
  },
  {
   "cell_type": "code",
   "execution_count": null,
   "id": "81d0fe6e",
   "metadata": {},
   "outputs": [],
   "source": [
    "model_enc_dec = Sequential()\n",
    "model_enc_dec.add(LSTM(100, activation='relu', input_shape=(LOOK_BACK, n_features)))\n",
    "model_enc_dec.add(RepeatVector(FORECAST_RANGE))\n",
    "model_enc_dec.add(LSTM(100, activation='relu', return_sequences=True))\n",
    "model_enc_dec.add(TimeDistributed(Dense(n_features)))\n",
    "model_enc_dec.compile(optimizer='adam', loss='mse')"
   ]
  },
  {
   "cell_type": "code",
   "execution_count": null,
   "id": "15f351ad",
   "metadata": {},
   "outputs": [],
   "source": [
    "history = model_enc_dec.fit(X_train, y_train, epochs=epochs, batch_size=batch_size, validation_split=validation,callbacks=[early_stopping_callback, rlrop_callback])"
   ]
  },
  {
   "cell_type": "code",
   "execution_count": null,
   "id": "b944d5b6",
   "metadata": {},
   "outputs": [],
   "source": [
    "y_pred = model_enc_dec.predict(X_test, verbose=0)\n",
    "eval_results_metrics_only(y_test.flatten(),y_pred.flatten())\n",
    "X_pred = va_50k[112:].reshape((1,20,2624))\n",
    "y_next = model_enc_dec.predict(X_pred, verbose=0).reshape(12,2624)"
   ]
  },
  {
   "cell_type": "code",
   "execution_count": null,
   "id": "fce5d3bb",
   "metadata": {},
   "outputs": [],
   "source": [
    "va_50k= np.concatenate((va_50k,y_next), axis=0)\n",
    "np.shape(va_50k)"
   ]
  },
  {
   "cell_type": "code",
   "execution_count": null,
   "id": "d0635d83",
   "metadata": {},
   "outputs": [],
   "source": [
    "train_set = va_50k[:90]\n",
    "test_set = va_50k[90:]\n",
    "X_train, y_train = split_sequence(train_set, LOOK_BACK, FORECAST_RANGE)\n",
    "X_test, y_test = split_sequence(test_set,LOOK_BACK,FORECAST_RANGE)"
   ]
  },
  {
   "cell_type": "code",
   "execution_count": null,
   "id": "2895fce7",
   "metadata": {},
   "outputs": [],
   "source": [
    "model_enc_dec = Sequential()\n",
    "model_enc_dec.add(LSTM(100, activation='relu', input_shape=(LOOK_BACK, n_features)))\n",
    "model_enc_dec.add(RepeatVector(FORECAST_RANGE))\n",
    "model_enc_dec.add(LSTM(100, activation='relu', return_sequences=True))\n",
    "model_enc_dec.add(TimeDistributed(Dense(n_features)))\n",
    "model_enc_dec.compile(optimizer='adam', loss='mse')"
   ]
  },
  {
   "cell_type": "code",
   "execution_count": null,
   "id": "7a20e6b1",
   "metadata": {},
   "outputs": [],
   "source": [
    "history = model_enc_dec.fit(X_train, y_train, epochs=epochs, batch_size=batch_size, validation_split=validation,callbacks=[early_stopping_callback, rlrop_callback])"
   ]
  },
  {
   "cell_type": "code",
   "execution_count": null,
   "id": "7d22dc6b",
   "metadata": {},
   "outputs": [],
   "source": [
    "y_pred = model_enc_dec.predict(X_test, verbose=0)\n",
    "eval_results_metrics_only(y_test.flatten(),y_pred.flatten())\n",
    "X_pred = va_50k[124:].reshape((1,20,2624))\n",
    "y_next = model_enc_dec.predict(X_pred, verbose=0).reshape(12,2624)"
   ]
  },
  {
   "cell_type": "code",
   "execution_count": null,
   "id": "c053c06d",
   "metadata": {},
   "outputs": [],
   "source": [
    "va_50k= np.concatenate((va_50k,y_next), axis=0)\n",
    "np.shape(va_50k)"
   ]
  },
  {
   "cell_type": "code",
   "execution_count": null,
   "id": "d232ed1c",
   "metadata": {},
   "outputs": [],
   "source": [
    "train_set = va_50k[:100]\n",
    "test_set = va_50k[100:]\n",
    "X_train, y_train = split_sequence(train_set, LOOK_BACK, FORECAST_RANGE)\n",
    "X_test, y_test = split_sequence(test_set,LOOK_BACK,FORECAST_RANGE)"
   ]
  },
  {
   "cell_type": "code",
   "execution_count": null,
   "id": "b58ad4ba",
   "metadata": {},
   "outputs": [],
   "source": [
    "model_enc_dec = Sequential()\n",
    "model_enc_dec.add(LSTM(100, activation='relu', input_shape=(LOOK_BACK, n_features)))\n",
    "model_enc_dec.add(RepeatVector(FORECAST_RANGE))\n",
    "model_enc_dec.add(LSTM(100, activation='relu', return_sequences=True))\n",
    "model_enc_dec.add(TimeDistributed(Dense(n_features)))\n",
    "model_enc_dec.compile(optimizer='adam', loss='mse')"
   ]
  },
  {
   "cell_type": "code",
   "execution_count": null,
   "id": "aa532740",
   "metadata": {},
   "outputs": [],
   "source": [
    "history = model_enc_dec.fit(X_train, y_train, epochs=epochs, batch_size=batch_size, validation_split=validation,callbacks=[early_stopping_callback, rlrop_callback])"
   ]
  },
  {
   "cell_type": "code",
   "execution_count": null,
   "id": "eb95e023",
   "metadata": {},
   "outputs": [],
   "source": [
    "y_pred = model_enc_dec.predict(X_test, verbose=0)\n",
    "eval_results_metrics_only(y_test.flatten(),y_pred.flatten())\n",
    "X_pred = va_50k[136:].reshape((1,20,2624))\n",
    "y_next = model_enc_dec.predict(X_pred, verbose=0).reshape(12,2624)"
   ]
  },
  {
   "cell_type": "code",
   "execution_count": null,
   "id": "9e3b0d8b",
   "metadata": {},
   "outputs": [],
   "source": [
    "va_50k= np.concatenate((va_50k,y_next), axis=0)\n",
    "np.shape(va_50k)"
   ]
  },
  {
   "cell_type": "code",
   "execution_count": null,
   "id": "63d07741",
   "metadata": {},
   "outputs": [],
   "source": [
    "train_set = va_50k[:110]\n",
    "test_set = va_50k[110:]\n",
    "X_train, y_train = split_sequence(train_set, LOOK_BACK, FORECAST_RANGE)\n",
    "X_test, y_test = split_sequence(test_set,LOOK_BACK,FORECAST_RANGE)"
   ]
  },
  {
   "cell_type": "code",
   "execution_count": null,
   "id": "a6de76f8",
   "metadata": {},
   "outputs": [],
   "source": [
    "model_enc_dec = Sequential()\n",
    "model_enc_dec.add(LSTM(100, activation='relu', input_shape=(LOOK_BACK, n_features)))\n",
    "model_enc_dec.add(RepeatVector(FORECAST_RANGE))\n",
    "model_enc_dec.add(LSTM(100, activation='relu', return_sequences=True))\n",
    "model_enc_dec.add(TimeDistributed(Dense(n_features)))\n",
    "model_enc_dec.compile(optimizer='adam', loss='mse')"
   ]
  },
  {
   "cell_type": "code",
   "execution_count": null,
   "id": "e8f27aa7",
   "metadata": {},
   "outputs": [],
   "source": [
    "history = model_enc_dec.fit(X_train, y_train, epochs=epochs, batch_size=batch_size, validation_split=validation,callbacks=[early_stopping_callback, rlrop_callback])"
   ]
  },
  {
   "cell_type": "code",
   "execution_count": null,
   "id": "d3ef58df",
   "metadata": {},
   "outputs": [],
   "source": [
    "y_pred = model_enc_dec.predict(X_test, verbose=0)\n",
    "eval_results_metrics_only(y_test.flatten(),y_pred.flatten())\n",
    "X_pred = va_50k[148:].reshape((1,20,2624))\n",
    "va_50k_2020 = model_enc_dec.predict(X_pred, verbose=0).reshape(12,2624)"
   ]
  },
  {
   "cell_type": "code",
   "execution_count": null,
   "id": "11bf1835",
   "metadata": {},
   "outputs": [],
   "source": [
    "va_50k= np.concatenate((va_50k,va_50k_2020), axis=0)\n",
    "np.shape(va_50k)"
   ]
  },
  {
   "cell_type": "code",
   "execution_count": null,
   "id": "84b8bfe2",
   "metadata": {},
   "outputs": [],
   "source": [
    "print(np.shape(sst_cpl_2020))\n",
    "print(np.shape(ice_cov_2020))\n",
    "print(np.shape(psl_2020))\n",
    "print(np.shape(ua_50k_2020))\n",
    "print(np.shape(va_50k_2020))\n",
    "sst_cpl_2020 = sst_cpl_2020.reshape((12,2624))"
   ]
  },
  {
   "cell_type": "code",
   "execution_count": null,
   "id": "25d38d15",
   "metadata": {},
   "outputs": [],
   "source": [
    "target = np.zeros((12,13120))"
   ]
  },
  {
   "cell_type": "code",
   "execution_count": null,
   "id": "1d1e3f74",
   "metadata": {},
   "outputs": [],
   "source": [
    "for m in range(12):\n",
    "    for i in range(0,2624):\n",
    "        target[m][i*5] = sst_cpl_2020[m][i] \n",
    "        target[m][i*5+1] = ice_cov_2020[m][i] \n",
    "        target[m][i*5+2] = psl_2020[m][i] \n",
    "        target[m][i*5+3] = ua_50k_2020[m][i] \n",
    "        target[m][i*5+4] = va_50k_2020[m][i] \n",
    "    "
   ]
  },
  {
   "cell_type": "code",
   "execution_count": null,
   "id": "0a3b63fe",
   "metadata": {},
   "outputs": [],
   "source": [
    "np.savetxt(\"ctf_ensemble_0.txt\",target)"
   ]
  },
  {
   "cell_type": "code",
   "execution_count": null,
   "id": "ad657571",
   "metadata": {},
   "outputs": [],
   "source": [
    "loaded = np.loadtxt(\"ctf_ensemble_0.txt\")"
   ]
  },
  {
   "cell_type": "code",
   "execution_count": null,
   "id": "0b551061",
   "metadata": {},
   "outputs": [],
   "source": [
    "sst_cpl_returned = np.zeros((12,2624))\n",
    "ice_cov_returned_cpl_returned = np.zeros((12,2624))\n",
    "psl_returned = np.zeros((12,2624))\n",
    "ua_50k_returned = np.zeros((12,2624))\n",
    "va_50k_returned = np.zeros((12,2624))\n",
    "\n",
    "for m in range(12):\n",
    "    for i in range(0,13120,5):\n",
    "        sst_cpl_returned[m][int(i/5)] = loaded[m][i]\n",
    "        ice_cov_returned[m][int(i/5)] = loaded[m][i+1]\n",
    "        psl_returned[m][int(i/5)] = loaded[m][i+2] \n",
    "        ua_50k_returned[m][int(i/5)] = loaded[m][i+3]\n",
    "        va_50k_returned[m][int(i/5)] = loaded[m][i+4]"
   ]
  },
  {
   "cell_type": "code",
   "execution_count": null,
   "id": "3dd7e4fb",
   "metadata": {},
   "outputs": [],
   "source": [
    "print(np.shape(sst_cpl))\n",
    "print(np.shape(sst_cpl_returned))"
   ]
  },
  {
   "cell_type": "code",
   "execution_count": null,
   "id": "b797552e",
   "metadata": {},
   "outputs": [],
   "source": [
    "sst_min = min(np.min(sst_cpl_returned),np.min(sst_cpl))\n",
    "sst_max = min(np.max(sst_cpl_returned),np.max(sst_cpl))\n",
    "ice_min = min(np.min(ice_cov_returned),np.min(ice_cov))\n",
    "ice_max = min(np.max(ice_cov_returned),np.max(ice_cov))\n",
    "p_min = min(np.min(psl_returned),np.min(psl))\n",
    "p_max = min(np.max(psl_returned),np.max(psl))\n",
    "ua_min = min(np.min(ua_50k_returned),np.min(ua_50k))\n",
    "ua_max = min(np.max(ua_50k_returned),np.max(ua_50k))\n",
    "va_min = min(np.min(va_50k_returned),np.min(va_50k))\n",
    "va_max = min(np.max(va_50k_returned),np.max(va_50k))\n",
    "X_sst = np.linspace(sst_min,sst_max)\n",
    "X_ice = np.linspace(ice_min,ice_max)\n",
    "X_p = np.linspace(p_min,p_max)\n",
    "X_ua = np.linspace(ua_min,ua_max)\n",
    "X_va = np.linspace(va_min,va_max)"
   ]
  },
  {
   "cell_type": "code",
   "execution_count": null,
   "id": "638a5438",
   "metadata": {},
   "outputs": [],
   "source": [
    "ext_sst_pdf = stats.gaussian_kde(sst_cpl_returned.flatten())\n",
    "ctf_sst_pdf = stats.gaussian_kde(sst_cpl.flatten())\n",
    "ext_ice_pdf = stats.gaussian_kde(ice_cov_returned.flatten())\n",
    "ctf_ice_pdf = stats.gaussian_kde(ice_cov.flatten())\n",
    "ext_p_pdf = stats.gaussian_kde(psl_returned.flatten())\n",
    "ctf_p_pdf = stats.gaussian_kde(psl.flatten())\n",
    "ext_ua_pdf = stats.gaussian_kde(ua_50k_returned.flatten())\n",
    "ctf_ua_pdf = stats.gaussian_kde(ua_50k.flatten())\n",
    "ext_va_pdf = stats.gaussian_kde(va_50k_returned.flatten())\n",
    "ctf_va_pdf = stats.gaussian_kde(va_50k.flatten())"
   ]
  },
  {
   "cell_type": "code",
   "execution_count": null,
   "id": "6aa5cb1a",
   "metadata": {},
   "outputs": [],
   "source": [
    "y_sst_ext = ext_sst_pdf(X_sst)\n",
    "y_sst_ctf = ctf_sst_pdf(X_sst)\n",
    "y_ice_ext = ext_ice_pdf(X_ice)\n",
    "y_ice_ctf = ctf_ice_pdf(X_ice)\n",
    "y_p_ext = ext_p_pdf(X_p)\n",
    "y_p_ctf = ctf_p_pdf(X_p)\n",
    "y_ua_ext = ext_ua_pdf(X_ua)\n",
    "y_ua_ctf = ctf_ua_pdf(X_ua)\n",
    "y_va_ext = ext_va_pdf(X_va)\n",
    "y_va_ctf = ctf_va_pdf(X_va)"
   ]
  },
  {
   "cell_type": "code",
   "execution_count": null,
   "id": "a52b8b31",
   "metadata": {},
   "outputs": [],
   "source": [
    "print('JS SST: ' + str(jensenshannon(y_sst_ext,y_sst_ctf)))\n",
    "print('JS ice: ' + str(jensenshannon(y_ice_ext,y_ice_ctf)))\n",
    "print('JS pressure: ' + str(jensenshannon(y_p_ext,y_p_ctf)))\n",
    "print('JS ua: ' + str(jensenshannon(y_ua_ext,y_ua_ctf)))\n",
    "print('JS va: ' + str(jensenshannon(y_va_ext,y_va_ctf)))"
   ]
  },
  {
   "cell_type": "code",
   "execution_count": null,
   "id": "7eedefad",
   "metadata": {},
   "outputs": [],
   "source": []
  }
 ],
 "metadata": {
  "kernelspec": {
   "display_name": "Python 3",
   "language": "python",
   "name": "python3"
  },
  "language_info": {
   "codemirror_mode": {
    "name": "ipython",
    "version": 3
   },
   "file_extension": ".py",
   "mimetype": "text/x-python",
   "name": "python",
   "nbconvert_exporter": "python",
   "pygments_lexer": "ipython3",
   "version": "3.10.0"
  }
 },
 "nbformat": 4,
 "nbformat_minor": 5
}
