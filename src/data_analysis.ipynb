{
 "cells": [
  {
   "cell_type": "code",
   "execution_count": null,
   "id": "bc1f55a1",
   "metadata": {},
   "outputs": [],
   "source": [
    "import numpy as np\n",
    "import matplotlib.pyplot as plt\n",
    "import xarray as xr\n",
    "import xesmf as xe\n",
    "import pandas as pd\n",
    "from flaml import AutoML\n",
    "from sklearn.model_selection import train_test_split\n",
    "from sklearn.metrics import r2_score, mean_squared_error, mean_absolute_percentage_error, mean_absolute_error\n",
    "from sklearn.preprocessing import StandardScaler\n",
    "from sklearn.decomposition import PCA\n",
    "from sklearn.manifold import LocallyLinearEmbedding\n",
    "from scipy import stats\n",
    "from libpysal.weights import lat2W\n",
    "from scipy.spatial.distance import jensenshannon\n",
    "from scipy import stats\n",
    "from esda.moran import Moran"
   ]
  },
  {
   "cell_type": "code",
   "execution_count": null,
   "id": "9ac0d16d",
   "metadata": {},
   "outputs": [],
   "source": [
    "def open_data():\n",
    "    #Open the datasets\n",
    "    factual = xr.open_mfdataset(\"factual/*.nc\")\n",
    "    cfl = xr.open_mfdataset(\"eth_cfl/*.nc\", join='inner', compat='override')\n",
    "    \n",
    "    factual = factual.reduce(np.nansum, dim='expver',keep_attrs=True)\n",
    "    cfl[\"lon\"] = np.arange(-180,180,2.5)\n",
    "    factual = factual.rename({\"latitude\":\"lat\",\"longitude\":\"lon\"})\n",
    "    cfl = cfl.sel(lat=slice(0,60),lon=slice(-80,20))\n",
    "    \n",
    "    #Regrid the factual dataset to be the counterfactual's granularity\n",
    "    ds_out = xr.Dataset(\n",
    "        {\n",
    "            \"lat\": np.array(cfl[\"lat\"]),\n",
    "            \"lon\": np.array(cfl[\"lon\"]),\n",
    "        }\n",
    "    )\n",
    "    regridder = xe.Regridder(factual, ds_out, \"bilinear\")\n",
    "    factual = regridder(factual)\n",
    "    #factual = factual.isel(time=slice(0,864)) \n",
    "    factual = factual.isel(time=slice(0,732)) # if monthly data\n",
    "    \n",
    "    pred_df = pd.read_csv(\"yearly_activity.csv\")\n",
    "    pred_df = pred_df.loc[pred_df['Year'] >= 1950]\n",
    "    ace_raw = pred_df['Accumulated Cyclone Energy']\n",
    "    ace = np.array(ace_raw)\n",
    "    \n",
    "    return factual,cfl,ace"
   ]
  },
  {
   "cell_type": "code",
   "execution_count": null,
   "id": "87fd0005",
   "metadata": {},
   "outputs": [],
   "source": [
    "factual, cfl,ace = open_data()\n",
    "cfl = xr.open_mfdataset(\"eth_cfl/*.nc\", join='inner', compat='override')\n",
    "cfl[\"lon\"] = np.arange(-180,180,2.5)\n",
    "cfl = cfl.sel(lat=slice(0,60),lon=slice(-80,20))\n",
    "cfl = cfl.drop(\"time_bnds\")\n",
    "cfl = cfl.assign(ua_50000=cfl[\"ua\"].sel(plev=50000))\n",
    "cfl = cfl.assign(va_50000=cfl[\"va\"].sel(plev=50000))\n",
    "cfl = cfl.drop(\"ua\")\n",
    "cfl = cfl.drop(\"va\")\n",
    "cfl = cfl.drop(\"plev\")"
   ]
  },
  {
   "cell_type": "code",
   "execution_count": null,
   "id": "397a21d3",
   "metadata": {},
   "outputs": [],
   "source": [
    "sst_cpl = cfl['SST_cpl'].to_numpy().reshape(120,2624)\n",
    "ice_cov = cfl['ice_cov'].to_numpy().reshape(120,2624)\n",
    "psl = cfl['psl'].to_numpy().reshape(120,2624)\n",
    "ua_50k = cfl['ua_50000'].to_numpy().reshape(120,2624)\n",
    "va_50k = cfl['va_50000'].to_numpy().reshape(120,2624)\n",
    "\n",
    "sst = factual['sst'].to_numpy().reshape(732,2624)\n",
    "ice = factual['siconc'].to_numpy().reshape(732,2624)\n",
    "p = factual['msl'].to_numpy().reshape(732,2624)\n",
    "ua = factual['u10'].to_numpy().reshape(732,2624)\n",
    "va = factual['v10'].to_numpy().reshape(732,2624)"
   ]
  },
  {
   "cell_type": "code",
   "execution_count": null,
   "id": "230d6a2f",
   "metadata": {},
   "outputs": [],
   "source": [
    "plt.hist(sst_cpl)\n",
    "plt.show()\n",
    "plt.hist(sst)\n",
    "plt.show()"
   ]
  },
  {
   "cell_type": "code",
   "execution_count": null,
   "id": "88fcc491",
   "metadata": {},
   "outputs": [],
   "source": [
    "plt.hist(ice_cov)\n",
    "plt.show()\n",
    "plt.hist(ice)\n",
    "plt.show()"
   ]
  },
  {
   "cell_type": "code",
   "execution_count": null,
   "id": "b612d103",
   "metadata": {},
   "outputs": [],
   "source": [
    "plt.hist(psl)\n",
    "plt.show()\n",
    "plt.hist(p)\n",
    "plt.show()"
   ]
  },
  {
   "cell_type": "code",
   "execution_count": null,
   "id": "fcb8618a",
   "metadata": {},
   "outputs": [],
   "source": [
    "plt.hist(ua_50k)\n",
    "plt.show()\n",
    "plt.hist(ua)\n",
    "plt.show()"
   ]
  },
  {
   "cell_type": "code",
   "execution_count": null,
   "id": "2871b710",
   "metadata": {},
   "outputs": [],
   "source": [
    "plt.hist(va_50k)\n",
    "plt.show()\n",
    "plt.hist(va)\n",
    "plt.show()"
   ]
  },
  {
   "cell_type": "code",
   "execution_count": null,
   "id": "a53fa850",
   "metadata": {},
   "outputs": [],
   "source": [
    "sst = sst.reshape((732,64,41))\n",
    "ice = ice.reshape((732,64,41))\n",
    "p = p.reshape((732,64,41))\n",
    "ua = ua.reshape((732,64,41))\n",
    "va = va.reshape((732,64,41))"
   ]
  },
  {
   "cell_type": "code",
   "execution_count": null,
   "id": "bb5cf6aa",
   "metadata": {},
   "outputs": [],
   "source": [
    "sst_cpl = sst_cpl.reshape((120,64,41))\n",
    "ice_cov = ice_cov.reshape((120,64,41))\n",
    "psl = psl.reshape((120,64,41))\n",
    "ua_50k = ua_50k.reshape((120,64,41))\n",
    "va_50k = va_50k.reshape((120,64,41))"
   ]
  },
  {
   "cell_type": "code",
   "execution_count": null,
   "id": "28243f85",
   "metadata": {},
   "outputs": [],
   "source": [
    "w = lat2W(sst[0].shape[0], sst[0].shape[1])"
   ]
  },
  {
   "cell_type": "code",
   "execution_count": null,
   "id": "d82815cb",
   "metadata": {},
   "outputs": [],
   "source": [
    "mi = Moran(sst[0], w)"
   ]
  },
  {
   "cell_type": "code",
   "execution_count": null,
   "id": "3930ee24",
   "metadata": {},
   "outputs": [],
   "source": [
    "print(mi.I) \n",
    "print(mi.p_norm)"
   ]
  },
  {
   "cell_type": "code",
   "execution_count": null,
   "id": "74e688ad",
   "metadata": {},
   "outputs": [],
   "source": [
    "m_l = []\n",
    "for i in range(732):\n",
    "    print(i)\n",
    "    w = lat2W(sst[i].shape[0], sst[i].shape[1])\n",
    "    mi = Moran(sst[i],w)\n",
    "    m_l.append(float(mi.I))\n",
    "print('Average SST Moran\\'s I measure for SST: ' + str(np.average(m_l)))"
   ]
  },
  {
   "cell_type": "code",
   "execution_count": null,
   "id": "0c18ca34",
   "metadata": {},
   "outputs": [],
   "source": [
    "m_l = []\n",
    "for i in range(732):\n",
    "    print(i)\n",
    "    w = lat2W(ice[i].shape[0], ice[i].shape[1])\n",
    "    mi = Moran(ice[i],w)\n",
    "    m_l.append(mi.I)\n",
    "print('Average SST Moran\\'s I measure for sea ice: ' + str(np.average(m_l)))"
   ]
  },
  {
   "cell_type": "code",
   "execution_count": null,
   "id": "1d893b85",
   "metadata": {},
   "outputs": [],
   "source": [
    "m_l = []\n",
    "for i in range(732):\n",
    "    print(i)\n",
    "    w = lat2W(p[i].shape[0], p[i].shape[1])\n",
    "    mi = Moran(p[i],w)\n",
    "    m_l.append(mi.I)\n",
    "print('Average SST Moran\\'s I measure for pressure: ' + str(np.average(m_l)))"
   ]
  },
  {
   "cell_type": "code",
   "execution_count": null,
   "id": "09ac72ea",
   "metadata": {},
   "outputs": [],
   "source": [
    "m_l = []\n",
    "for i in range(732):\n",
    "    print(i)\n",
    "    w = lat2W(ua[i].shape[0], ua[i].shape[1])\n",
    "    mi = Moran(ua[i],w)\n",
    "    m_l.append(mi.I)\n",
    "print('Average SST Moran\\'s I measure for u-wind: ' + str(np.average(m_l)))"
   ]
  },
  {
   "cell_type": "code",
   "execution_count": null,
   "id": "f638e475",
   "metadata": {},
   "outputs": [],
   "source": [
    "m_l = []\n",
    "for i in range(732):\n",
    "    print(i)\n",
    "    w = lat2W(va[i].shape[0], va[i].shape[1])\n",
    "    mi = Moran(va[i],w)\n",
    "    m_l.append(mi.I)\n",
    "print('Average SST Moran\\'s I measure for v-wind: ' + str(np.average(m_l)))"
   ]
  },
  {
   "cell_type": "code",
   "execution_count": null,
   "id": "d99f0399",
   "metadata": {},
   "outputs": [],
   "source": [
    "m_l = []\n",
    "for i in range(120):\n",
    "    print(i)\n",
    "    w = lat2W(sst_cpl[i].shape[0], sst_cpl[i].shape[1])\n",
    "    mi = Moran(sst_cpl[i],w)\n",
    "    m_l.append(float(mi.I))\n",
    "print('Average SST Moran\\'s I measure for CTF-SST: ' + str(np.average(m_l)))"
   ]
  },
  {
   "cell_type": "code",
   "execution_count": null,
   "id": "01980c32",
   "metadata": {},
   "outputs": [],
   "source": [
    "m_l = []\n",
    "for i in range(120):\n",
    "    print(i)\n",
    "    w = lat2W(ice_cov[i].shape[0], ice_cov[i].shape[1])\n",
    "    mi = Moran(ice_cov[i],w)\n",
    "    m_l.append(float(mi.I))\n",
    "print('Average SST Moran\\'s I measure for CTF-sea ice: ' + str(np.average(m_l)))"
   ]
  },
  {
   "cell_type": "code",
   "execution_count": null,
   "id": "e4cefa9a",
   "metadata": {},
   "outputs": [],
   "source": [
    "m_l = []\n",
    "for i in range(120):\n",
    "    print(i)\n",
    "    w = lat2W(psl[i].shape[0], psl[i].shape[1])\n",
    "    mi = Moran(psl[i],w)\n",
    "    m_l.append(float(mi.I))\n",
    "print('Average SST Moran\\'s I measure for CTF-pressure: ' + str(np.average(m_l)))"
   ]
  },
  {
   "cell_type": "code",
   "execution_count": null,
   "id": "017cb3d7",
   "metadata": {},
   "outputs": [],
   "source": [
    "m_l = []\n",
    "for i in range(120):\n",
    "    print(i)\n",
    "    w = lat2W(ua_50k[i].shape[0], ua_50k[i].shape[1])\n",
    "    mi = Moran(ua_50k[i],w)\n",
    "    m_l.append(float(mi.I))\n",
    "print('Average SST Moran\\'s I measure for CTF-U_wind: ' + str(np.average(m_l)))"
   ]
  },
  {
   "cell_type": "code",
   "execution_count": null,
   "id": "cf26ba27",
   "metadata": {},
   "outputs": [],
   "source": [
    "m_l = []\n",
    "for i in range(120):\n",
    "    print(i)\n",
    "    w = lat2W(va_50k[i].shape[0], va_50k[i].shape[1])\n",
    "    mi = Moran(va_50k[i],w)\n",
    "    m_l.append(float(mi.I))\n",
    "print('Average SST Moran\\'s I measure for CTF-V_wind: ' + str(np.average(m_l)))"
   ]
  },
  {
   "cell_type": "code",
   "execution_count": null,
   "id": "26a669d2",
   "metadata": {},
   "outputs": [],
   "source": [
    "sst_pdf = stats.gaussian_kde(sst.flatten())\n",
    "ctf_sst_pdf = stats.gaussian_kde(sst_cpl.flatten())\n",
    "ice_pdf = stats.gaussian_kde(ice.flatten())\n",
    "ctf_ice_pdf = stats.gaussian_kde(ice_cov.flatten())\n",
    "p_pdf = stats.gaussian_kde(p.flatten())\n",
    "ctf_p_pdf = stats.gaussian_kde(psl.flatten())\n",
    "ua_pdf = stats.gaussian_kde(ua.flatten())\n",
    "ctf_ua_pdf = stats.gaussian_kde(ua_50k.flatten())\n",
    "va_pdf = stats.gaussian_kde(va.flatten())\n",
    "ctf_va_pdf = stats.gaussian_kde(va_50k.flatten())"
   ]
  },
  {
   "cell_type": "code",
   "execution_count": null,
   "id": "19f4349a",
   "metadata": {},
   "outputs": [],
   "source": [
    "print(np.min(sst))\n",
    "print(np.max(sst))\n",
    "print(np.min(sst_cpl))\n",
    "print(np.max(sst_cpl))\n",
    "print(np.min(ice))\n",
    "print(np.max(ice))\n",
    "print(np.min(ice_cov))\n",
    "print(np.max(ice_cov))\n",
    "print(np.min(p))\n",
    "print(np.max(p))\n",
    "print(np.min(psl))\n",
    "print(np.max(psl))\n",
    "print(np.min(ua))\n",
    "print(np.max(ua))\n",
    "print(np.min(ua_50k))\n",
    "print(np.max(ua_50k))\n",
    "print(np.min(va))\n",
    "print(np.max(va))\n",
    "print(np.min(va_50k))\n",
    "print(np.max(va_50k))\n",
    "sst_min = min(np.min(sst),np.min(sst_cpl))\n",
    "sst_max = min(np.max(sst),np.max(sst_cpl))\n",
    "ice_min = min(np.min(ice),np.min(ice_cov))\n",
    "ice_max = min(np.max(ice),np.max(ice_cov))\n",
    "p_min = min(np.min(p),np.min(psl))\n",
    "p_max = min(np.max(p),np.max(psl))\n",
    "ua_min = min(np.min(ua),np.min(ua_50k))\n",
    "ua_max = min(np.max(ua),np.max(ua_50k))\n",
    "va_min = min(np.min(va),np.min(va_50k))\n",
    "va_max = min(np.max(va),np.max(va_50k))"
   ]
  },
  {
   "cell_type": "code",
   "execution_count": null,
   "id": "9437de51",
   "metadata": {},
   "outputs": [],
   "source": [
    "X_sst = np.linspace(sst_min,sst_max)\n",
    "X_ice = np.linspace(ice_min,ice_max)\n",
    "X_p = np.linspace(p_min,p_max)\n",
    "X_ua = np.linspace(ua_min,ua_max)\n",
    "X_va = np.linspace(va_min,va_max)"
   ]
  },
  {
   "cell_type": "code",
   "execution_count": null,
   "id": "00f099ce",
   "metadata": {},
   "outputs": [],
   "source": [
    "y_sst_f = sst_pdf(X_sst)\n",
    "y_sst_ctf = ctf_sst_pdf(X_sst)\n",
    "y_ice_f = ice_pdf(X_ice)\n",
    "y_ice_ctf = ctf_ice_pdf(X_ice)\n",
    "y_p_f = p_pdf(X_p)\n",
    "y_p_ctf = ctf_p_pdf(X_p)\n",
    "y_ua_f = ua_pdf(X_ua)\n",
    "y_ua_ctf = ctf_ua_pdf(X_ua)\n",
    "y_va_f = va_pdf(X_va)\n",
    "y_va_ctf = ctf_va_pdf(X_va)"
   ]
  },
  {
   "cell_type": "code",
   "execution_count": null,
   "id": "bffecc96",
   "metadata": {},
   "outputs": [],
   "source": [
    "print('JS SST: ' + str(jensenshannon(y_sst_f,y_sst_ctf)))\n",
    "print('JS ice: ' + str(jensenshannon(y_ice_f,y_ice_ctf)))\n",
    "print('JS pressure: ' + str(jensenshannon(y_p_f,y_p_ctf)))\n",
    "print('JS ua: ' + str(jensenshannon(y_ua_f,y_ua_ctf)))\n",
    "print('JS va: ' + str(jensenshannon(y_va_f,y_va_ctf)))"
   ]
  },
  {
   "cell_type": "code",
   "execution_count": null,
   "id": "9e71d73e",
   "metadata": {},
   "outputs": [],
   "source": []
  }
 ],
 "metadata": {
  "kernelspec": {
   "display_name": "Python 3",
   "language": "python",
   "name": "python3"
  },
  "language_info": {
   "codemirror_mode": {
    "name": "ipython",
    "version": 3
   },
   "file_extension": ".py",
   "mimetype": "text/x-python",
   "name": "python",
   "nbconvert_exporter": "python",
   "pygments_lexer": "ipython3",
   "version": "3.10.0"
  }
 },
 "nbformat": 4,
 "nbformat_minor": 5
}
