{
 "cells": [
  {
   "cell_type": "code",
   "execution_count": null,
   "id": "e92376f5",
   "metadata": {},
   "outputs": [],
   "source": [
    "import numpy as np\n",
    "import matplotlib.pyplot as plt\n",
    "import xarray as xr\n",
    "import xesmf as xe\n",
    "import pandas as pd\n",
    "from flaml import AutoML\n",
    "from sklearn.model_selection import train_test_split\n",
    "from sklearn.metrics import r2_score, mean_squared_error, mean_absolute_percentage_error, mean_absolute_error\n",
    "from sklearn.preprocessing import StandardScaler\n",
    "from sklearn.metrics import r2_score, mean_squared_error, mean_absolute_percentage_error, mean_absolute_error\n",
    "from sklearn.decomposition import PCA\n",
    "from sklearn.manifold import LocallyLinearEmbedding\n",
    "from scipy import stats\n",
    "import openturns as ot\n",
    "from scipy.stats import genextreme as gev\n",
    "from scipy.stats import genpareto as gpd"
   ]
  },
  {
   "cell_type": "code",
   "execution_count": null,
   "id": "d998b175",
   "metadata": {},
   "outputs": [],
   "source": [
    "#ctf_ensemble = np.loadtxt(\"ctf_ensemble_preds.txt\")\n",
    "#fact_ensemble = np.loadtxt(\"fact_ensemble_preds.txt\")\n",
    "#ctf_ensemble = np.loadtxt(\"ctf_ensemble_preds_v2.txt\")\n",
    "#fact_ensemble = np.loadtxt(\"fact_ensemble_preds_v2.txt\")\n",
    "#ctf_ensemble = np.loadtxt(\"ctf_ensemble_preds_v3.txt\")\n",
    "#fact_ensemble = np.loadtxt(\"fact_ensemble_preds_v2.txt\")\n",
    "#ctf_ensemble = np.loadtxt(\"ctf_ensemble_preds_v4.txt\")\n",
    "#fact_ensemble = np.loadtxt(\"fact_ensemble_preds_v2.txt\")\n",
    "ctf_ensemble = np.loadtxt(\"ctf_ensemble_preds_v4.txt\")\n",
    "fact_ensemble = np.loadtxt(\"fact_ensemble_preds_v2.txt\")"
   ]
  },
  {
   "cell_type": "code",
   "execution_count": null,
   "id": "8cd6b13e",
   "metadata": {},
   "outputs": [],
   "source": [
    "density_ctf = stats.gaussian_kde(ctf_ensemble)\n",
    "density_fact = stats.gaussian_kde(fact_ensemble)"
   ]
  },
  {
   "cell_type": "code",
   "execution_count": null,
   "id": "20337664",
   "metadata": {},
   "outputs": [],
   "source": [
    "X_lim = np.linspace(0,300)\n",
    "y_ctf = density_ctf(X_lim)\n",
    "y_fact = density_fact(X_lim)"
   ]
  },
  {
   "cell_type": "code",
   "execution_count": null,
   "id": "4508b5ff",
   "metadata": {},
   "outputs": [],
   "source": [
    "plt.title(\"KDE: Counterfactual and Factual Ensemble ACE Predictions\")\n",
    "plt.xlabel(\"Predicted 2020 Atlantic Seasonal ACE\")\n",
    "plt.plot(X_lim,y_ctf,label=\"Counterfactual\")\n",
    "plt.plot(X_lim,y_fact, label=\"Factual\")\n",
    "plt.legend()\n",
    "plt.show()"
   ]
  },
  {
   "cell_type": "code",
   "execution_count": null,
   "id": "f2a5638d",
   "metadata": {},
   "outputs": [],
   "source": [
    "ace_2020 = 180.3725"
   ]
  },
  {
   "cell_type": "code",
   "execution_count": null,
   "id": "9ea58d7a",
   "metadata": {},
   "outputs": [],
   "source": [
    "p0 = 1 - density_ctf.integrate_box_1d(0,ace_2020)\n",
    "p1 = 1 - density_fact.integrate_box_1d(0,ace_2020)\n",
    "p2 = 1 - density_fact.integrate_box_1d(0,140)\n",
    "print(p0*100)\n",
    "print(p1*100)\n",
    "print(p2*100)"
   ]
  },
  {
   "cell_type": "code",
   "execution_count": null,
   "id": "4dd307be",
   "metadata": {},
   "outputs": [],
   "source": [
    "pn = 1-p0/p1\n",
    "ps = 1 - (1-p1)/(1-p0)\n",
    "pns = p1-p0\n",
    "rr = p1/p0"
   ]
  },
  {
   "cell_type": "code",
   "execution_count": null,
   "id": "eb6b1930",
   "metadata": {},
   "outputs": [],
   "source": [
    "print('Necessity: ' + str(pn))\n",
    "print('Sufficiency: ' + str(ps))\n",
    "print('Necessity & Sufficiency: ' + str(pns))\n",
    "print('Risk ratio: ' + str(rr))"
   ]
  },
  {
   "cell_type": "code",
   "execution_count": null,
   "id": "ffb77312",
   "metadata": {},
   "outputs": [],
   "source": [
    "def gen_trip(ace):\n",
    "    p0 = 1 - density_ctf.integrate_box_1d(0,ace)\n",
    "    p1 = 1 - density_fact.integrate_box_1d(0,ace)\n",
    "    pn = 1-p0/p1\n",
    "    ps = 1 - (1-p1)/(1-p0)\n",
    "    pns = p1-p0\n",
    "    return pn,ps,pns"
   ]
  },
  {
   "cell_type": "code",
   "execution_count": null,
   "id": "2aca9fc1",
   "metadata": {},
   "outputs": [],
   "source": [
    "to_check = np.linspace(30,250)"
   ]
  },
  {
   "cell_type": "code",
   "execution_count": null,
   "id": "a951f730",
   "metadata": {},
   "outputs": [],
   "source": [
    "pn_l = []\n",
    "ps_l = []\n",
    "pns_l = []\n",
    "for val in to_check:\n",
    "    pn,ps,pns = gen_trip(val)\n",
    "    pn_l.append(pn)\n",
    "    ps_l.append(ps)\n",
    "    pns_l.append(pns)"
   ]
  },
  {
   "cell_type": "code",
   "execution_count": null,
   "id": "3d23a25c",
   "metadata": {},
   "outputs": [],
   "source": [
    "\n",
    "\n",
    "\n",
    "plt.plot(to_check,pn_l,label=\"PN\")\n",
    "plt.plot(to_check,ps_l, label=\"PS\")\n",
    "plt.plot(to_check,pns_l, label=\"PNS\")\n",
    "plt.legend()\n",
    "plt.show()"
   ]
  },
  {
   "cell_type": "code",
   "execution_count": null,
   "id": "75b09e1b",
   "metadata": {},
   "outputs": [],
   "source": [
    "def gen_trip_time(ace,t):\n",
    "    p0 = 1 - density_ctf.integrate_box_1d(0,ace)\n",
    "    p1 = 1 - density_fact.integrate_box_1d(0,ace)\n",
    "    p0 = 1 - (1-p0)**t\n",
    "    p1 = 1 - (1-p1)**t\n",
    "    pn = 1-p0/p1\n",
    "    ps = 1 - (1-p1)/(1-p0)\n",
    "    pns = p1-p0\n",
    "    return pn,ps,pns"
   ]
  },
  {
   "cell_type": "code",
   "execution_count": null,
   "id": "207e3ec0",
   "metadata": {},
   "outputs": [],
   "source": [
    "times_before = np.linspace(1,200)\n",
    "pn_lt = []\n",
    "ps_lt = []\n",
    "pns_lt = []\n",
    "for t in times_before:\n",
    "    pn,ps,pns = gen_trip_time(ace_2020,t)\n",
    "    pn_lt.append(pn)\n",
    "    ps_lt.append(ps)\n",
    "    pns_lt.append(pns)"
   ]
  },
  {
   "cell_type": "code",
   "execution_count": null,
   "id": "cafe3c03",
   "metadata": {},
   "outputs": [],
   "source": [
    "plt.title(\"Necessity, Sufficicency, and Both Occuring by 2020\")\n",
    "plt.xlabel(\"Observational Period\")\n",
    "plt.plot(times_before,pn_lt,label=\"PN\")\n",
    "plt.plot(times_before,ps_lt, label=\"PS\")\n",
    "plt.plot(times_before,pns_lt, label=\"PNS\")\n",
    "plt.legend()\n",
    "plt.show()"
   ]
  },
  {
   "cell_type": "code",
   "execution_count": null,
   "id": "f20d5d9e",
   "metadata": {},
   "outputs": [],
   "source": [
    "shp_gev,loc_gev,sc_gev = gev.fit(ctf_ensemble)\n",
    "fshp_gev,floc_gev,fsc_gev = gev.fit(fact_ensemble)"
   ]
  },
  {
   "cell_type": "code",
   "execution_count": null,
   "id": "71f5ff37",
   "metadata": {},
   "outputs": [],
   "source": [
    "shp_gpd,loc_gpd,sc_gpd =  gpd.fit(ctf_ensemble)\n",
    "fshp_gpd,floc_gpd,fsc_gpd = gpd.fit(fact_ensemble)"
   ]
  },
  {
   "cell_type": "code",
   "execution_count": null,
   "id": "ae789e84",
   "metadata": {},
   "outputs": [],
   "source": [
    "l = loc_gev + sc_gev / shp_gev\n",
    "xx = np.linspace(60,250)\n",
    "yy = gev.pdf(xx, shp_gev, loc_gev , sc_gev)\n",
    "plt.plot(xx, yy, label=\"Counterfactual\")\n",
    "fl = floc_gev + fsc_gev / fshp_gev\n",
    "#fxx = np.linspace(60,250, num=71)\n",
    "fyy = gev.pdf(xx, fshp_gev, floc_gev , fsc_gev)\n",
    "plt.plot(xx, fyy, label=\"Factual\")\n",
    "plt.title(\"GEV: Counterfactual and Factual Ensemble ACE Predictions\")\n",
    "plt.xlabel(\"Predicted 2020 Atlantic Seasonal ACE\")\n",
    "plt.legend()\n",
    "plt.show()"
   ]
  },
  {
   "cell_type": "code",
   "execution_count": null,
   "id": "f974add6",
   "metadata": {},
   "outputs": [],
   "source": [
    "def gev_gen_trip(ace):\n",
    "    p0 = 1 - gev.cdf(ace, shp_gev, loc_gev , sc_gev)\n",
    "    p1 = 1 - gev.cdf(ace, fshp_gev, floc_gev , fsc_gev)\n",
    "    pn = 1-p0/p1\n",
    "    ps = 1 - (1-p1)/(1-p0)\n",
    "    pns = p1-p0\n",
    "    rr = p1/p0\n",
    "    return pn,ps,pns,rr\n",
    "def time_gev_gen_trip(ace,t):\n",
    "    p0 = 1 - gev.cdf(ace, shp_gev, loc_gev , sc_gev)\n",
    "    p1 = 1 - gev.cdf(ace, fshp_gev, floc_gev , fsc_gev)\n",
    "    p0 = 1 - (1-p0)**t\n",
    "    p1 = 1 - (1-p1)**t\n",
    "    pn = 1-p0/p1\n",
    "    ps = 1 - (1-p1)/(1-p0)\n",
    "    pns = p1-p0\n",
    "    rr = p1/p0\n",
    "    return pn,ps,pns,rr"
   ]
  },
  {
   "cell_type": "code",
   "execution_count": null,
   "id": "31b4b429",
   "metadata": {},
   "outputs": [],
   "source": [
    "pn,ps,pns,rr = gev_gen_trip(ace_2020)\n",
    "print('Necessity: ' + str(pn))\n",
    "print('Sufficiency: ' + str(ps))\n",
    "print('Necessity & Sufficiency: ' + str(pns))\n",
    "print('Risk Ratio: ' + str(rr))"
   ]
  },
  {
   "cell_type": "code",
   "execution_count": null,
   "id": "4ea0418f",
   "metadata": {},
   "outputs": [],
   "source": [
    "to_check = np.linspace(30,250)\n",
    "pn_l = []\n",
    "ps_l = []\n",
    "pns_l = []\n",
    "for val in to_check:\n",
    "    pn,ps,pns = gev_gen_trip(val)\n",
    "    pn_l.append(pn)\n",
    "    ps_l.append(ps)\n",
    "    pns_l.append(pns)\n",
    "plt.title(\"Necessity, Sufficicency, and Both vs. Possible ACEs\")\n",
    "plt.xlabel(\"Possible 2020 Atlantic Seasonal ACE\")\n",
    "plt.plot(to_check,pn_l,label=\"PN\")\n",
    "plt.plot(to_check,ps_l, label=\"PS\")\n",
    "plt.plot(to_check,pns_l, label=\"PNS\")\n",
    "plt.legend()\n",
    "plt.show()"
   ]
  },
  {
   "cell_type": "code",
   "execution_count": null,
   "id": "249db51b",
   "metadata": {},
   "outputs": [],
   "source": [
    "times_before = np.linspace(1,30)\n",
    "pn_lt = []\n",
    "ps_lt = []\n",
    "pns_lt = []\n",
    "for t in times_before:\n",
    "    pn,ps,pns = time_gev_gen_trip(ace_2020,t)\n",
    "    pn_lt.append(pn)\n",
    "    ps_lt.append(ps)\n",
    "    pns_lt.append(pns)\n",
    "plt.title(\"Necessity, Sufficicency, and Both Occuring by 2020\")\n",
    "plt.xlabel(\"Observational Period\")\n",
    "plt.plot(times_before,pn_lt,label=\"PN\")\n",
    "plt.plot(times_before,ps_lt, label=\"PS\")\n",
    "plt.plot(times_before,pns_lt, label=\"PNS\")\n",
    "plt.legend()\n",
    "plt.show()"
   ]
  },
  {
   "cell_type": "code",
   "execution_count": null,
   "id": "5dd9d5e5",
   "metadata": {},
   "outputs": [],
   "source": [
    "l = loc_gpd + sc_gpd / shp_gpd\n",
    "xx = np.linspace(60,250)\n",
    "yy = gpd.pdf(xx, shp_gpd, loc_gpd , sc_gpd)\n",
    "plt.plot(xx, yy, label=\"Counterfactual\")\n",
    "fl = floc_gpd + fsc_gpd / fshp_gpd\n",
    "#fxx = np.linspace(60,250, num=71)\n",
    "fyy = gpd.pdf(xx, fshp_gpd, floc_gpd , fsc_gpd)\n",
    "plt.plot(xx, fyy, label=\"Factual\")\n",
    "plt.legend()\n",
    "plt.show()"
   ]
  },
  {
   "cell_type": "code",
   "execution_count": null,
   "id": "5ee6b11a",
   "metadata": {},
   "outputs": [],
   "source": []
  }
 ],
 "metadata": {
  "kernelspec": {
   "display_name": "Python 3",
   "language": "python",
   "name": "python3"
  },
  "language_info": {
   "codemirror_mode": {
    "name": "ipython",
    "version": 3
   },
   "file_extension": ".py",
   "mimetype": "text/x-python",
   "name": "python",
   "nbconvert_exporter": "python",
   "pygments_lexer": "ipython3",
   "version": "3.10.0"
  }
 },
 "nbformat": 4,
 "nbformat_minor": 5
}
